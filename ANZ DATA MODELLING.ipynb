{
 "cells": [
  {
   "cell_type": "markdown",
   "id": "federal-bouquet",
   "metadata": {},
   "source": [
    "# DATA MODELLING AND CORRELATION ON ANZ DATASET"
   ]
  },
  {
   "cell_type": "code",
   "execution_count": 1,
   "id": "specialized-interference",
   "metadata": {},
   "outputs": [],
   "source": [
    "import numpy as np\n",
    "import pandas as pd\n",
    "import datetime\n",
    "import seaborn as sns\n",
    "import matplotlib.pyplot as plt\n",
    "%matplotlib inline"
   ]
  },
  {
   "cell_type": "markdown",
   "id": "wooden-hurricane",
   "metadata": {},
   "source": [
    "## Data Extraction"
   ]
  },
  {
   "cell_type": "code",
   "execution_count": 2,
   "id": "existing-circular",
   "metadata": {},
   "outputs": [],
   "source": [
    "data=pd.read_excel('/storage/emulated/0/Android/data/ru.iiec.pydroid3/files/ANZ synthesised transaction dataset.xlsx',engine='openpyxl')"
   ]
  },
  {
   "cell_type": "code",
   "execution_count": 3,
   "id": "hawaiian-violation",
   "metadata": {
    "scrolled": true
   },
   "outputs": [
    {
     "data": {
      "text/html": [
       "<div>\n",
       "<style scoped>\n",
       "    .dataframe tbody tr th:only-of-type {\n",
       "        vertical-align: middle;\n",
       "    }\n",
       "\n",
       "    .dataframe tbody tr th {\n",
       "        vertical-align: top;\n",
       "    }\n",
       "\n",
       "    .dataframe thead th {\n",
       "        text-align: right;\n",
       "    }\n",
       "</style>\n",
       "<table border=\"1\" class=\"dataframe\">\n",
       "  <thead>\n",
       "    <tr style=\"text-align: right;\">\n",
       "      <th></th>\n",
       "      <th>status</th>\n",
       "      <th>card_present_flag</th>\n",
       "      <th>bpay_biller_code</th>\n",
       "      <th>account</th>\n",
       "      <th>currency</th>\n",
       "      <th>long_lat</th>\n",
       "      <th>txn_description</th>\n",
       "      <th>merchant_id</th>\n",
       "      <th>merchant_code</th>\n",
       "      <th>first_name</th>\n",
       "      <th>...</th>\n",
       "      <th>age</th>\n",
       "      <th>merchant_suburb</th>\n",
       "      <th>merchant_state</th>\n",
       "      <th>extraction</th>\n",
       "      <th>amount</th>\n",
       "      <th>transaction_id</th>\n",
       "      <th>country</th>\n",
       "      <th>customer_id</th>\n",
       "      <th>merchant_long_lat</th>\n",
       "      <th>movement</th>\n",
       "    </tr>\n",
       "  </thead>\n",
       "  <tbody>\n",
       "    <tr>\n",
       "      <th>0</th>\n",
       "      <td>authorized</td>\n",
       "      <td>1.0</td>\n",
       "      <td>NaN</td>\n",
       "      <td>ACC-1598451071</td>\n",
       "      <td>AUD</td>\n",
       "      <td>153.41 -27.95</td>\n",
       "      <td>POS</td>\n",
       "      <td>81c48296-73be-44a7-befa-d053f48ce7cd</td>\n",
       "      <td>NaN</td>\n",
       "      <td>Diana</td>\n",
       "      <td>...</td>\n",
       "      <td>26</td>\n",
       "      <td>Ashmore</td>\n",
       "      <td>QLD</td>\n",
       "      <td>2018-08-01T01:01:15.000+0000</td>\n",
       "      <td>16.25</td>\n",
       "      <td>a623070bfead4541a6b0fff8a09e706c</td>\n",
       "      <td>Australia</td>\n",
       "      <td>CUS-2487424745</td>\n",
       "      <td>153.38 -27.99</td>\n",
       "      <td>debit</td>\n",
       "    </tr>\n",
       "    <tr>\n",
       "      <th>1</th>\n",
       "      <td>authorized</td>\n",
       "      <td>0.0</td>\n",
       "      <td>NaN</td>\n",
       "      <td>ACC-1598451071</td>\n",
       "      <td>AUD</td>\n",
       "      <td>153.41 -27.95</td>\n",
       "      <td>SALES-POS</td>\n",
       "      <td>830a451c-316e-4a6a-bf25-e37caedca49e</td>\n",
       "      <td>NaN</td>\n",
       "      <td>Diana</td>\n",
       "      <td>...</td>\n",
       "      <td>26</td>\n",
       "      <td>Sydney</td>\n",
       "      <td>NSW</td>\n",
       "      <td>2018-08-01T01:13:45.000+0000</td>\n",
       "      <td>14.19</td>\n",
       "      <td>13270a2a902145da9db4c951e04b51b9</td>\n",
       "      <td>Australia</td>\n",
       "      <td>CUS-2487424745</td>\n",
       "      <td>151.21 -33.87</td>\n",
       "      <td>debit</td>\n",
       "    </tr>\n",
       "    <tr>\n",
       "      <th>2</th>\n",
       "      <td>authorized</td>\n",
       "      <td>1.0</td>\n",
       "      <td>NaN</td>\n",
       "      <td>ACC-1222300524</td>\n",
       "      <td>AUD</td>\n",
       "      <td>151.23 -33.94</td>\n",
       "      <td>POS</td>\n",
       "      <td>835c231d-8cdf-4e96-859d-e9d571760cf0</td>\n",
       "      <td>NaN</td>\n",
       "      <td>Michael</td>\n",
       "      <td>...</td>\n",
       "      <td>38</td>\n",
       "      <td>Sydney</td>\n",
       "      <td>NSW</td>\n",
       "      <td>2018-08-01T01:26:15.000+0000</td>\n",
       "      <td>6.42</td>\n",
       "      <td>feb79e7ecd7048a5a36ec889d1a94270</td>\n",
       "      <td>Australia</td>\n",
       "      <td>CUS-2142601169</td>\n",
       "      <td>151.21 -33.87</td>\n",
       "      <td>debit</td>\n",
       "    </tr>\n",
       "    <tr>\n",
       "      <th>3</th>\n",
       "      <td>authorized</td>\n",
       "      <td>1.0</td>\n",
       "      <td>NaN</td>\n",
       "      <td>ACC-1037050564</td>\n",
       "      <td>AUD</td>\n",
       "      <td>153.10 -27.66</td>\n",
       "      <td>SALES-POS</td>\n",
       "      <td>48514682-c78a-4a88-b0da-2d6302e64673</td>\n",
       "      <td>NaN</td>\n",
       "      <td>Rhonda</td>\n",
       "      <td>...</td>\n",
       "      <td>40</td>\n",
       "      <td>Buderim</td>\n",
       "      <td>QLD</td>\n",
       "      <td>2018-08-01T01:38:45.000+0000</td>\n",
       "      <td>40.90</td>\n",
       "      <td>2698170da3704fd981b15e64a006079e</td>\n",
       "      <td>Australia</td>\n",
       "      <td>CUS-1614226872</td>\n",
       "      <td>153.05 -26.68</td>\n",
       "      <td>debit</td>\n",
       "    </tr>\n",
       "    <tr>\n",
       "      <th>4</th>\n",
       "      <td>authorized</td>\n",
       "      <td>1.0</td>\n",
       "      <td>NaN</td>\n",
       "      <td>ACC-1598451071</td>\n",
       "      <td>AUD</td>\n",
       "      <td>153.41 -27.95</td>\n",
       "      <td>SALES-POS</td>\n",
       "      <td>b4e02c10-0852-4273-b8fd-7b3395e32eb0</td>\n",
       "      <td>NaN</td>\n",
       "      <td>Diana</td>\n",
       "      <td>...</td>\n",
       "      <td>26</td>\n",
       "      <td>Mermaid Beach</td>\n",
       "      <td>QLD</td>\n",
       "      <td>2018-08-01T01:51:15.000+0000</td>\n",
       "      <td>3.25</td>\n",
       "      <td>329adf79878c4cf0aeb4188b4691c266</td>\n",
       "      <td>Australia</td>\n",
       "      <td>CUS-2487424745</td>\n",
       "      <td>153.44 -28.06</td>\n",
       "      <td>debit</td>\n",
       "    </tr>\n",
       "  </tbody>\n",
       "</table>\n",
       "<p>5 rows × 23 columns</p>\n",
       "</div>"
      ],
      "text/plain": [
       "       status  card_present_flag bpay_biller_code         account currency  \\\n",
       "0  authorized                1.0              NaN  ACC-1598451071      AUD   \n",
       "1  authorized                0.0              NaN  ACC-1598451071      AUD   \n",
       "2  authorized                1.0              NaN  ACC-1222300524      AUD   \n",
       "3  authorized                1.0              NaN  ACC-1037050564      AUD   \n",
       "4  authorized                1.0              NaN  ACC-1598451071      AUD   \n",
       "\n",
       "        long_lat txn_description                           merchant_id  \\\n",
       "0  153.41 -27.95             POS  81c48296-73be-44a7-befa-d053f48ce7cd   \n",
       "1  153.41 -27.95       SALES-POS  830a451c-316e-4a6a-bf25-e37caedca49e   \n",
       "2  151.23 -33.94             POS  835c231d-8cdf-4e96-859d-e9d571760cf0   \n",
       "3  153.10 -27.66       SALES-POS  48514682-c78a-4a88-b0da-2d6302e64673   \n",
       "4  153.41 -27.95       SALES-POS  b4e02c10-0852-4273-b8fd-7b3395e32eb0   \n",
       "\n",
       "   merchant_code first_name  ...  age merchant_suburb merchant_state  \\\n",
       "0            NaN      Diana  ...   26         Ashmore            QLD   \n",
       "1            NaN      Diana  ...   26          Sydney            NSW   \n",
       "2            NaN    Michael  ...   38          Sydney            NSW   \n",
       "3            NaN     Rhonda  ...   40         Buderim            QLD   \n",
       "4            NaN      Diana  ...   26   Mermaid Beach            QLD   \n",
       "\n",
       "                     extraction amount                    transaction_id  \\\n",
       "0  2018-08-01T01:01:15.000+0000  16.25  a623070bfead4541a6b0fff8a09e706c   \n",
       "1  2018-08-01T01:13:45.000+0000  14.19  13270a2a902145da9db4c951e04b51b9   \n",
       "2  2018-08-01T01:26:15.000+0000   6.42  feb79e7ecd7048a5a36ec889d1a94270   \n",
       "3  2018-08-01T01:38:45.000+0000  40.90  2698170da3704fd981b15e64a006079e   \n",
       "4  2018-08-01T01:51:15.000+0000   3.25  329adf79878c4cf0aeb4188b4691c266   \n",
       "\n",
       "     country     customer_id merchant_long_lat movement  \n",
       "0  Australia  CUS-2487424745     153.38 -27.99    debit  \n",
       "1  Australia  CUS-2487424745     151.21 -33.87    debit  \n",
       "2  Australia  CUS-2142601169     151.21 -33.87    debit  \n",
       "3  Australia  CUS-1614226872     153.05 -26.68    debit  \n",
       "4  Australia  CUS-2487424745     153.44 -28.06    debit  \n",
       "\n",
       "[5 rows x 23 columns]"
      ]
     },
     "execution_count": 3,
     "metadata": {},
     "output_type": "execute_result"
    }
   ],
   "source": [
    "data.head()"
   ]
  },
  {
   "cell_type": "code",
   "execution_count": 4,
   "id": "peaceful-beverage",
   "metadata": {},
   "outputs": [
    {
     "data": {
      "text/html": [
       "<div>\n",
       "<style scoped>\n",
       "    .dataframe tbody tr th:only-of-type {\n",
       "        vertical-align: middle;\n",
       "    }\n",
       "\n",
       "    .dataframe tbody tr th {\n",
       "        vertical-align: top;\n",
       "    }\n",
       "\n",
       "    .dataframe thead th {\n",
       "        text-align: right;\n",
       "    }\n",
       "</style>\n",
       "<table border=\"1\" class=\"dataframe\">\n",
       "  <thead>\n",
       "    <tr style=\"text-align: right;\">\n",
       "      <th></th>\n",
       "      <th>card_present_flag</th>\n",
       "      <th>merchant_code</th>\n",
       "      <th>balance</th>\n",
       "      <th>age</th>\n",
       "      <th>amount</th>\n",
       "    </tr>\n",
       "  </thead>\n",
       "  <tbody>\n",
       "    <tr>\n",
       "      <th>count</th>\n",
       "      <td>7717.000000</td>\n",
       "      <td>883.0</td>\n",
       "      <td>12043.000000</td>\n",
       "      <td>12043.000000</td>\n",
       "      <td>12043.000000</td>\n",
       "    </tr>\n",
       "    <tr>\n",
       "      <th>mean</th>\n",
       "      <td>0.802644</td>\n",
       "      <td>0.0</td>\n",
       "      <td>14704.195553</td>\n",
       "      <td>30.582330</td>\n",
       "      <td>187.933588</td>\n",
       "    </tr>\n",
       "    <tr>\n",
       "      <th>std</th>\n",
       "      <td>0.398029</td>\n",
       "      <td>0.0</td>\n",
       "      <td>31503.722652</td>\n",
       "      <td>10.046343</td>\n",
       "      <td>592.599934</td>\n",
       "    </tr>\n",
       "    <tr>\n",
       "      <th>min</th>\n",
       "      <td>0.000000</td>\n",
       "      <td>0.0</td>\n",
       "      <td>0.240000</td>\n",
       "      <td>18.000000</td>\n",
       "      <td>0.100000</td>\n",
       "    </tr>\n",
       "    <tr>\n",
       "      <th>25%</th>\n",
       "      <td>1.000000</td>\n",
       "      <td>0.0</td>\n",
       "      <td>3158.585000</td>\n",
       "      <td>22.000000</td>\n",
       "      <td>16.000000</td>\n",
       "    </tr>\n",
       "    <tr>\n",
       "      <th>50%</th>\n",
       "      <td>1.000000</td>\n",
       "      <td>0.0</td>\n",
       "      <td>6432.010000</td>\n",
       "      <td>28.000000</td>\n",
       "      <td>29.000000</td>\n",
       "    </tr>\n",
       "    <tr>\n",
       "      <th>75%</th>\n",
       "      <td>1.000000</td>\n",
       "      <td>0.0</td>\n",
       "      <td>12465.945000</td>\n",
       "      <td>38.000000</td>\n",
       "      <td>53.655000</td>\n",
       "    </tr>\n",
       "    <tr>\n",
       "      <th>max</th>\n",
       "      <td>1.000000</td>\n",
       "      <td>0.0</td>\n",
       "      <td>267128.520000</td>\n",
       "      <td>78.000000</td>\n",
       "      <td>8835.980000</td>\n",
       "    </tr>\n",
       "  </tbody>\n",
       "</table>\n",
       "</div>"
      ],
      "text/plain": [
       "       card_present_flag  merchant_code        balance           age  \\\n",
       "count        7717.000000          883.0   12043.000000  12043.000000   \n",
       "mean            0.802644            0.0   14704.195553     30.582330   \n",
       "std             0.398029            0.0   31503.722652     10.046343   \n",
       "min             0.000000            0.0       0.240000     18.000000   \n",
       "25%             1.000000            0.0    3158.585000     22.000000   \n",
       "50%             1.000000            0.0    6432.010000     28.000000   \n",
       "75%             1.000000            0.0   12465.945000     38.000000   \n",
       "max             1.000000            0.0  267128.520000     78.000000   \n",
       "\n",
       "             amount  \n",
       "count  12043.000000  \n",
       "mean     187.933588  \n",
       "std      592.599934  \n",
       "min        0.100000  \n",
       "25%       16.000000  \n",
       "50%       29.000000  \n",
       "75%       53.655000  \n",
       "max     8835.980000  "
      ]
     },
     "execution_count": 4,
     "metadata": {},
     "output_type": "execute_result"
    }
   ],
   "source": [
    "data.describe()"
   ]
  },
  {
   "cell_type": "code",
   "execution_count": 5,
   "id": "outdoor-mapping",
   "metadata": {},
   "outputs": [
    {
     "name": "stdout",
     "output_type": "stream",
     "text": [
      "<class 'pandas.core.frame.DataFrame'>\n",
      "RangeIndex: 12043 entries, 0 to 12042\n",
      "Data columns (total 23 columns):\n",
      " #   Column             Non-Null Count  Dtype         \n",
      "---  ------             --------------  -----         \n",
      " 0   status             12043 non-null  object        \n",
      " 1   card_present_flag  7717 non-null   float64       \n",
      " 2   bpay_biller_code   885 non-null    object        \n",
      " 3   account            12043 non-null  object        \n",
      " 4   currency           12043 non-null  object        \n",
      " 5   long_lat           12043 non-null  object        \n",
      " 6   txn_description    12043 non-null  object        \n",
      " 7   merchant_id        7717 non-null   object        \n",
      " 8   merchant_code      883 non-null    float64       \n",
      " 9   first_name         12043 non-null  object        \n",
      " 10  balance            12043 non-null  float64       \n",
      " 11  date               12043 non-null  datetime64[ns]\n",
      " 12  gender             12043 non-null  object        \n",
      " 13  age                12043 non-null  int64         \n",
      " 14  merchant_suburb    7717 non-null   object        \n",
      " 15  merchant_state     7717 non-null   object        \n",
      " 16  extraction         12043 non-null  object        \n",
      " 17  amount             12043 non-null  float64       \n",
      " 18  transaction_id     12043 non-null  object        \n",
      " 19  country            12043 non-null  object        \n",
      " 20  customer_id        12043 non-null  object        \n",
      " 21  merchant_long_lat  7717 non-null   object        \n",
      " 22  movement           12043 non-null  object        \n",
      "dtypes: datetime64[ns](1), float64(4), int64(1), object(17)\n",
      "memory usage: 1.3+ MB\n"
     ]
    }
   ],
   "source": [
    "data.info()"
   ]
  },
  {
   "cell_type": "code",
   "execution_count": 6,
   "id": "received-wallace",
   "metadata": {},
   "outputs": [
    {
     "name": "stdout",
     "output_type": "stream",
     "text": [
      "authorized    7717\n",
      "posted        4326\n",
      "Name: status, dtype: int64\n",
      "1.0    6194\n",
      "0.0    1523\n",
      "Name: card_present_flag, dtype: int64\n",
      "0                                        883\n",
      " LAND WATER & PLANNING East Melbourne      1\n",
      " THE DISCOUNT CHEMIST GROUP                1\n",
      "Name: bpay_biller_code, dtype: int64\n",
      "ACC-1598451071    578\n",
      "ACC-1222300524    303\n",
      "ACC-182446574     292\n",
      "ACC-4258502723    260\n",
      "ACC-1037050564    259\n",
      "                 ... \n",
      "ACC-1998563091     40\n",
      "ACC-3881031190     37\n",
      "ACC-721712940      34\n",
      "ACC-4059612845     31\n",
      "ACC-1217063613     25\n",
      "Name: account, Length: 100, dtype: int64\n",
      "AUD    12043\n",
      "Name: currency, dtype: int64\n",
      "153.41 -27.95    578\n",
      "151.23 -33.94    303\n",
      "116.06 -32.00    292\n",
      "145.45 -37.74    260\n",
      "153.10 -27.66    259\n",
      "                ... \n",
      "149.03 -35.25     40\n",
      "149.19 -21.15     37\n",
      "145.09 -37.82     34\n",
      "130.98 -12.49     31\n",
      "147.61 -37.82     25\n",
      "Name: long_lat, Length: 100, dtype: int64\n",
      "SALES-POS     3934\n",
      "POS           3783\n",
      "PAYMENT       2600\n",
      "PAY/SALARY     883\n",
      "INTER BANK     742\n",
      "PHONE BANK     101\n",
      "Name: txn_description, dtype: int64\n",
      "106e1272-44ab-4dcb-a438-dd98e0071e51    14\n",
      "6c84c219-96ea-4c6f-9de5-0a28bcaec62f    12\n",
      "e28c426d-cbef-4e2d-aa06-1ba0b6b1902f    11\n",
      "6ddddc40-5b69-4253-8a26-167999a8bf96    10\n",
      "aef30de1-c67e-4ab7-8577-2931a4bf3c7e    10\n",
      "                                        ..\n",
      "d119230c-f05a-44bd-a6dc-9ab0dc67e8c5     1\n",
      "e449ea4c-04e0-4958-bcd1-6a5d531f8e8c     1\n",
      "9b1f5867-31b9-4119-a0d7-3eca9826f940     1\n",
      "6ae42e47-a7d8-43cd-89b5-63bbabb4d992     1\n",
      "591082c5-10c9-421c-bb90-e2f76180cf58     1\n",
      "Name: merchant_id, Length: 5725, dtype: int64\n",
      "0.0    883\n",
      "Name: merchant_code, dtype: int64\n",
      "Michael      746\n",
      "Diana        578\n",
      "Jessica      408\n",
      "Joseph       391\n",
      "Jeffrey      388\n",
      "            ... \n",
      "Cindy         51\n",
      "Elizabeth     44\n",
      "David         40\n",
      "Andrew        34\n",
      "Jonathan      31\n",
      "Name: first_name, Length: 80, dtype: int64\n",
      "1204.08    2\n",
      "2786.80    2\n",
      "2773.11    2\n",
      "4007.96    2\n",
      "834.47     2\n",
      "          ..\n",
      "6112.31    1\n",
      "7215.07    1\n",
      "4010.02    1\n",
      "2005.82    1\n",
      "0.25       1\n",
      "Name: balance, Length: 12006, dtype: int64\n",
      "2018-09-28    174\n",
      "2018-08-17    172\n",
      "2018-10-05    168\n",
      "2018-10-17    162\n",
      "2018-09-14    161\n",
      "             ... \n",
      "2018-08-06     99\n",
      "2018-08-20     97\n",
      "2018-10-23     96\n",
      "2018-10-08     95\n",
      "2018-10-30     89\n",
      "Name: date, Length: 91, dtype: int64\n",
      "M    6285\n",
      "F    5758\n",
      "Name: gender, dtype: int64\n",
      "26    893\n",
      "38    767\n",
      "20    765\n",
      "21    733\n",
      "24    732\n",
      "40    704\n",
      "19    693\n",
      "34    537\n",
      "25    515\n",
      "30    499\n",
      "43    473\n",
      "35    444\n",
      "27    443\n",
      "18    442\n",
      "28    414\n",
      "22    399\n",
      "23    309\n",
      "39    283\n",
      "37    276\n",
      "31    255\n",
      "42    232\n",
      "44    160\n",
      "46    153\n",
      "33    139\n",
      "29    134\n",
      "41    121\n",
      "47    110\n",
      "69    102\n",
      "64     88\n",
      "52     77\n",
      "53     73\n",
      "50     44\n",
      "78     34\n",
      "Name: age, dtype: int64\n",
      "Melbourne        255\n",
      "Sydney           233\n",
      "Southport         82\n",
      "Brisbane City     79\n",
      "Chatswood         55\n",
      "                ... \n",
      "Schofields         1\n",
      "Morven             1\n",
      "Morgan             1\n",
      "Ballarat East      1\n",
      "Marsfield          1\n",
      "Name: merchant_suburb, Length: 1609, dtype: int64\n",
      "NSW    2169\n",
      "VIC    2131\n",
      "QLD    1556\n",
      "WA     1100\n",
      "SA      415\n",
      "NT      205\n",
      "ACT      73\n",
      "TAS      68\n",
      "Name: merchant_state, dtype: int64\n",
      "2018-09-03T11:00:00.000+0000    10\n",
      "2018-10-02T17:00:00.000+0000     9\n",
      "2018-10-01T11:00:00.000+0000     9\n",
      "2018-09-17T11:00:00.000+0000     9\n",
      "2018-08-07T17:00:00.000+0000     9\n",
      "                                ..\n",
      "2018-08-04T23:56:39.000+0000     1\n",
      "2018-08-18T21:22:15.000+0000     1\n",
      "2018-10-09T09:19:59.000+0000     1\n",
      "2018-10-06T17:24:23.000+0000     1\n",
      "2018-09-26T09:46:30.000+0000     1\n",
      "Name: extraction, Length: 9442, dtype: int64\n",
      "33.00    168\n",
      "39.00    119\n",
      "29.00    116\n",
      "36.00    107\n",
      "45.00    102\n",
      "        ... \n",
      "37.08      1\n",
      "54.39      1\n",
      "19.56      1\n",
      "47.40      1\n",
      "49.41      1\n",
      "Name: amount, Length: 4457, dtype: int64\n",
      "7082d3a8837d493dacfab7a9d231da31    1\n",
      "2060d7b090d949f2a9c1834941a3c518    1\n",
      "29d28ba2337f4038a4fefdfe85cf58d9    1\n",
      "d1debbbcdb5b4ba4b70522d18cccacd0    1\n",
      "1bfd69aa10c7478295e7a9b8f9d170a3    1\n",
      "                                   ..\n",
      "d45e4544a4004dd5b8d4df1e4dc06d00    1\n",
      "c03add4f493a4ca1a9a9176fc5adc84d    1\n",
      "e29b670f58e64a79b05a6567ff900bd2    1\n",
      "0dc38365c18b4a078148304460120f58    1\n",
      "282c90d4b4bf48caa197334e8da7d070    1\n",
      "Name: transaction_id, Length: 12043, dtype: int64\n",
      "Australia    12043\n",
      "Name: country, dtype: int64\n",
      "CUS-2487424745    578\n",
      "CUS-2142601169    303\n",
      "CUS-3026014945    292\n",
      "CUS-3378712515    260\n",
      "CUS-1614226872    259\n",
      "                 ... \n",
      "CUS-3395687666     40\n",
      "CUS-3201519139     37\n",
      "CUS-1646183815     34\n",
      "CUS-495599312      31\n",
      "CUS-1739931018     25\n",
      "Name: customer_id, Length: 100, dtype: int64\n",
      "151.21 -33.87    145\n",
      "144.96 -37.82     85\n",
      "144.97 -37.81     59\n",
      "144.96 -37.81     56\n",
      "153.02 -27.47     46\n",
      "                ... \n",
      "153.11 -27.55      1\n",
      "152.98 -27.53      1\n",
      "152.98 -27.27      1\n",
      "152.98 -27.55      1\n",
      "153.41 -27.93      1\n",
      "Name: merchant_long_lat, Length: 2703, dtype: int64\n",
      "debit     11160\n",
      "credit      883\n",
      "Name: movement, dtype: int64\n"
     ]
    }
   ],
   "source": [
    "for feat in data.columns:\n",
    "    print(data[feat].value_counts())"
   ]
  },
  {
   "cell_type": "markdown",
   "id": "familiar-heater",
   "metadata": {},
   "source": [
    "## Feature Correlation 1"
   ]
  },
  {
   "cell_type": "code",
   "execution_count": 7,
   "id": "tracked-edition",
   "metadata": {},
   "outputs": [
    {
     "data": {
      "text/plain": [
       "<matplotlib.axes._subplots.AxesSubplot at 0xe6d829d0>"
      ]
     },
     "execution_count": 7,
     "metadata": {},
     "output_type": "execute_result"
    },
    {
     "data": {
      "image/png": "[encoded data removed]",
      "text/plain": [
       "<Figure size 432x288 with 1 Axes>"
      ]
     },
     "metadata": {
      "needs_background": "light"
     },
     "output_type": "display_data"
    }
   ],
   "source": [
    "sns.scatterplot(x=data['age'],y=data['amount'],hue=data['balance'],data=data)"
   ]
  },
  {
   "cell_type": "code",
   "execution_count": 8,
   "id": "enhanced-crown",
   "metadata": {},
   "outputs": [
    {
     "data": {
      "text/plain": [
       "<matplotlib.axes._subplots.AxesSubplot at 0xe5d05238>"
      ]
     },
     "execution_count": 8,
     "metadata": {},
     "output_type": "execute_result"
    },
    {
     "data": {
      "image/png": "[encoded data removed]",
      "text/plain": [
       "<Figure size 432x288 with 1 Axes>"
      ]
     },
     "metadata": {
      "needs_background": "light"
     },
     "output_type": "display_data"
    }
   ],
   "source": [
    "sns.scatterplot(x=data['age'],y=data['balance'],hue=data['balance'],data=data)"
   ]
  },
  {
   "cell_type": "code",
   "execution_count": 9,
   "id": "falling-fluid",
   "metadata": {},
   "outputs": [
    {
     "data": {
      "text/plain": [
       "balance              1.000000\n",
       "age                  0.199329\n",
       "amount               0.059178\n",
       "card_present_flag    0.005925\n",
       "merchant_code             NaN\n",
       "Name: balance, dtype: float64"
      ]
     },
     "execution_count": 9,
     "metadata": {},
     "output_type": "execute_result"
    }
   ],
   "source": [
    "corr_matrix=data.corr()\n",
    "corr_matrix['balance'].sort_values(ascending=False)"
   ]
  },
  {
   "cell_type": "markdown",
   "id": "nuclear-harvard",
   "metadata": {},
   "source": [
    "The annual salary(balance) correlates with less features apparently just four(4) and even with low correlation values."
   ]
  },
  {
   "cell_type": "code",
   "execution_count": 10,
   "id": "stretch-integer",
   "metadata": {},
   "outputs": [
    {
     "data": {
      "text/plain": [
       "<matplotlib.axes._subplots.AxesSubplot at 0xe7388d30>"
      ]
     },
     "execution_count": 10,
     "metadata": {},
     "output_type": "execute_result"
    },
    {
     "data": {
      "image/png": "[encoded data removed]",
      "text/plain": [
       "<Figure size 432x288 with 2 Axes>"
      ]
     },
     "metadata": {
      "needs_background": "light"
     },
     "output_type": "display_data"
    }
   ],
   "source": [
    "sns.heatmap(data.corr(method='pearson'),annot=True)"
   ]
  },
  {
   "cell_type": "code",
   "execution_count": 11,
   "id": "sought-singles",
   "metadata": {},
   "outputs": [
    {
     "data": {
      "text/plain": [
       "<matplotlib.axes._subplots.AxesSubplot at 0xe7525718>"
      ]
     },
     "execution_count": 11,
     "metadata": {},
     "output_type": "execute_result"
    },
    {
     "data": {
      "image/png": "[encoded data removed]",
      "text/plain": [
       "<Figure size 432x288 with 2 Axes>"
      ]
     },
     "metadata": {
      "needs_background": "light"
     },
     "output_type": "display_data"
    }
   ],
   "source": [
    "sns.heatmap(data.corr(method='spearman'),annot=True)"
   ]
  },
  {
   "cell_type": "markdown",
   "id": "internal-challenge",
   "metadata": {},
   "source": [
    "# Feature Engineering"
   ]
  },
  {
   "cell_type": "code",
   "execution_count": 12,
   "id": "rolled-spain",
   "metadata": {},
   "outputs": [],
   "source": [
    "cat_var_1=['status','txn_description','gender','merchant_state','movement']\n",
    "for feat in cat_var_1:\n",
    "    dummies=pd.get_dummies(data[feat]).add_prefix(feat+'_')\n",
    "    data=pd.concat([data,dummies],axis=1).drop(feat,axis=1)    "
   ]
  },
  {
   "cell_type": "markdown",
   "id": "republican-effect",
   "metadata": {},
   "source": [
    "## Customer ID"
   ]
  },
  {
   "cell_type": "code",
   "execution_count": 13,
   "id": "seasonal-glance",
   "metadata": {
    "scrolled": true
   },
   "outputs": [
    {
     "name": "stdout",
     "output_type": "stream",
     "text": [
      "<class 'pandas.core.frame.DataFrame'>\n",
      "RangeIndex: 12043 entries, 0 to 12042\n",
      "Data columns (total 38 columns):\n",
      " #   Column                      Non-Null Count  Dtype         \n",
      "---  ------                      --------------  -----         \n",
      " 0   card_present_flag           7717 non-null   float64       \n",
      " 1   bpay_biller_code            885 non-null    object        \n",
      " 2   account                     12043 non-null  object        \n",
      " 3   currency                    12043 non-null  object        \n",
      " 4   long_lat                    12043 non-null  object        \n",
      " 5   merchant_id                 7717 non-null   object        \n",
      " 6   merchant_code               883 non-null    float64       \n",
      " 7   first_name                  12043 non-null  object        \n",
      " 8   balance                     12043 non-null  float64       \n",
      " 9   date                        12043 non-null  datetime64[ns]\n",
      " 10  age                         12043 non-null  int64         \n",
      " 11  merchant_suburb             7717 non-null   object        \n",
      " 12  extraction                  12043 non-null  object        \n",
      " 13  amount                      12043 non-null  float64       \n",
      " 14  transaction_id              12043 non-null  object        \n",
      " 15  country                     12043 non-null  object        \n",
      " 16  customer_id                 12043 non-null  object        \n",
      " 17  merchant_long_lat           7717 non-null   object        \n",
      " 18  status_authorized           12043 non-null  uint8         \n",
      " 19  status_posted               12043 non-null  uint8         \n",
      " 20  txn_description_INTER BANK  12043 non-null  uint8         \n",
      " 21  txn_description_PAY/SALARY  12043 non-null  uint8         \n",
      " 22  txn_description_PAYMENT     12043 non-null  uint8         \n",
      " 23  txn_description_PHONE BANK  12043 non-null  uint8         \n",
      " 24  txn_description_POS         12043 non-null  uint8         \n",
      " 25  txn_description_SALES-POS   12043 non-null  uint8         \n",
      " 26  gender_F                    12043 non-null  uint8         \n",
      " 27  gender_M                    12043 non-null  uint8         \n",
      " 28  merchant_state_ACT          12043 non-null  uint8         \n",
      " 29  merchant_state_NSW          12043 non-null  uint8         \n",
      " 30  merchant_state_NT           12043 non-null  uint8         \n",
      " 31  merchant_state_QLD          12043 non-null  uint8         \n",
      " 32  merchant_state_SA           12043 non-null  uint8         \n",
      " 33  merchant_state_TAS          12043 non-null  uint8         \n",
      " 34  merchant_state_VIC          12043 non-null  uint8         \n",
      " 35  merchant_state_WA           12043 non-null  uint8         \n",
      " 36  movement_credit             12043 non-null  uint8         \n",
      " 37  movement_debit              12043 non-null  uint8         \n",
      "dtypes: datetime64[ns](1), float64(4), int64(1), object(12), uint8(20)\n",
      "memory usage: 1.3+ MB\n"
     ]
    }
   ],
   "source": [
    "data.info()"
   ]
  },
  {
   "cell_type": "code",
   "execution_count": 14,
   "id": "integral-aerospace",
   "metadata": {},
   "outputs": [],
   "source": [
    "id_map=data.groupby('customer_id')['balance'].mean().to_dict()\n",
    "data['customer_id']=data['customer_id'].map(id_map)"
   ]
  },
  {
   "cell_type": "markdown",
   "id": "above-circumstances",
   "metadata": {},
   "source": [
    "## Dropping Features"
   ]
  },
  {
   "cell_type": "code",
   "execution_count": 15,
   "id": "instrumental-cooling",
   "metadata": {
    "scrolled": true
   },
   "outputs": [
    {
     "name": "stdout",
     "output_type": "stream",
     "text": [
      "<class 'pandas.core.frame.DataFrame'>\n",
      "RangeIndex: 12043 entries, 0 to 12042\n",
      "Data columns (total 38 columns):\n",
      " #   Column                      Non-Null Count  Dtype         \n",
      "---  ------                      --------------  -----         \n",
      " 0   card_present_flag           7717 non-null   float64       \n",
      " 1   bpay_biller_code            885 non-null    object        \n",
      " 2   account                     12043 non-null  object        \n",
      " 3   currency                    12043 non-null  object        \n",
      " 4   long_lat                    12043 non-null  object        \n",
      " 5   merchant_id                 7717 non-null   object        \n",
      " 6   merchant_code               883 non-null    float64       \n",
      " 7   first_name                  12043 non-null  object        \n",
      " 8   balance                     12043 non-null  float64       \n",
      " 9   date                        12043 non-null  datetime64[ns]\n",
      " 10  age                         12043 non-null  int64         \n",
      " 11  merchant_suburb             7717 non-null   object        \n",
      " 12  extraction                  12043 non-null  object        \n",
      " 13  amount                      12043 non-null  float64       \n",
      " 14  transaction_id              12043 non-null  object        \n",
      " 15  country                     12043 non-null  object        \n",
      " 16  customer_id                 12043 non-null  float64       \n",
      " 17  merchant_long_lat           7717 non-null   object        \n",
      " 18  status_authorized           12043 non-null  uint8         \n",
      " 19  status_posted               12043 non-null  uint8         \n",
      " 20  txn_description_INTER BANK  12043 non-null  uint8         \n",
      " 21  txn_description_PAY/SALARY  12043 non-null  uint8         \n",
      " 22  txn_description_PAYMENT     12043 non-null  uint8         \n",
      " 23  txn_description_PHONE BANK  12043 non-null  uint8         \n",
      " 24  txn_description_POS         12043 non-null  uint8         \n",
      " 25  txn_description_SALES-POS   12043 non-null  uint8         \n",
      " 26  gender_F                    12043 non-null  uint8         \n",
      " 27  gender_M                    12043 non-null  uint8         \n",
      " 28  merchant_state_ACT          12043 non-null  uint8         \n",
      " 29  merchant_state_NSW          12043 non-null  uint8         \n",
      " 30  merchant_state_NT           12043 non-null  uint8         \n",
      " 31  merchant_state_QLD          12043 non-null  uint8         \n",
      " 32  merchant_state_SA           12043 non-null  uint8         \n",
      " 33  merchant_state_TAS          12043 non-null  uint8         \n",
      " 34  merchant_state_VIC          12043 non-null  uint8         \n",
      " 35  merchant_state_WA           12043 non-null  uint8         \n",
      " 36  movement_credit             12043 non-null  uint8         \n",
      " 37  movement_debit              12043 non-null  uint8         \n",
      "dtypes: datetime64[ns](1), float64(5), int64(1), object(11), uint8(20)\n",
      "memory usage: 1.4+ MB\n"
     ]
    }
   ],
   "source": [
    "data.info()"
   ]
  },
  {
   "cell_type": "code",
   "execution_count": 16,
   "id": "synthetic-charm",
   "metadata": {},
   "outputs": [],
   "source": [
    "data.drop(['country','merchant_code','transaction_id','bpay_biller_code','currency','extraction','merchant_id','merchant_suburb'],axis=1,inplace=True)"
   ]
  },
  {
   "cell_type": "markdown",
   "id": "suburban-mirror",
   "metadata": {},
   "source": [
    "## Reconstruting Features To Improve Correlation"
   ]
  },
  {
   "cell_type": "code",
   "execution_count": 17,
   "id": "abandoned-commitment",
   "metadata": {
    "scrolled": true
   },
   "outputs": [
    {
     "name": "stdout",
     "output_type": "stream",
     "text": [
      "<class 'pandas.core.frame.DataFrame'>\n",
      "RangeIndex: 12043 entries, 0 to 12042\n",
      "Data columns (total 30 columns):\n",
      " #   Column                      Non-Null Count  Dtype         \n",
      "---  ------                      --------------  -----         \n",
      " 0   card_present_flag           7717 non-null   float64       \n",
      " 1   account                     12043 non-null  object        \n",
      " 2   long_lat                    12043 non-null  object        \n",
      " 3   first_name                  12043 non-null  object        \n",
      " 4   balance                     12043 non-null  float64       \n",
      " 5   date                        12043 non-null  datetime64[ns]\n",
      " 6   age                         12043 non-null  int64         \n",
      " 7   amount                      12043 non-null  float64       \n",
      " 8   customer_id                 12043 non-null  float64       \n",
      " 9   merchant_long_lat           7717 non-null   object        \n",
      " 10  status_authorized           12043 non-null  uint8         \n",
      " 11  status_posted               12043 non-null  uint8         \n",
      " 12  txn_description_INTER BANK  12043 non-null  uint8         \n",
      " 13  txn_description_PAY/SALARY  12043 non-null  uint8         \n",
      " 14  txn_description_PAYMENT     12043 non-null  uint8         \n",
      " 15  txn_description_PHONE BANK  12043 non-null  uint8         \n",
      " 16  txn_description_POS         12043 non-null  uint8         \n",
      " 17  txn_description_SALES-POS   12043 non-null  uint8         \n",
      " 18  gender_F                    12043 non-null  uint8         \n",
      " 19  gender_M                    12043 non-null  uint8         \n",
      " 20  merchant_state_ACT          12043 non-null  uint8         \n",
      " 21  merchant_state_NSW          12043 non-null  uint8         \n",
      " 22  merchant_state_NT           12043 non-null  uint8         \n",
      " 23  merchant_state_QLD          12043 non-null  uint8         \n",
      " 24  merchant_state_SA           12043 non-null  uint8         \n",
      " 25  merchant_state_TAS          12043 non-null  uint8         \n",
      " 26  merchant_state_VIC          12043 non-null  uint8         \n",
      " 27  merchant_state_WA           12043 non-null  uint8         \n",
      " 28  movement_credit             12043 non-null  uint8         \n",
      " 29  movement_debit              12043 non-null  uint8         \n",
      "dtypes: datetime64[ns](1), float64(4), int64(1), object(4), uint8(20)\n",
      "memory usage: 988.0+ KB\n"
     ]
    }
   ],
   "source": [
    "data.info()"
   ]
  },
  {
   "cell_type": "code",
   "execution_count": 18,
   "id": "cloudy-consolidation",
   "metadata": {},
   "outputs": [
    {
     "data": {
      "text/plain": [
       "100"
      ]
     },
     "execution_count": 18,
     "metadata": {},
     "output_type": "execute_result"
    }
   ],
   "source": [
    "len(data.account.unique())"
   ]
  },
  {
   "cell_type": "code",
   "execution_count": 19,
   "id": "loved-morgan",
   "metadata": {},
   "outputs": [
    {
     "data": {
      "text/plain": [
       "ACC-1598451071    578\n",
       "ACC-1222300524    303\n",
       "ACC-182446574     292\n",
       "ACC-4258502723    260\n",
       "ACC-1037050564    259\n",
       "                 ... \n",
       "ACC-1998563091     40\n",
       "ACC-3881031190     37\n",
       "ACC-721712940      34\n",
       "ACC-4059612845     31\n",
       "ACC-1217063613     25\n",
       "Name: account, Length: 100, dtype: int64"
      ]
     },
     "execution_count": 19,
     "metadata": {},
     "output_type": "execute_result"
    }
   ],
   "source": [
    "data.account.value_counts()"
   ]
  },
  {
   "cell_type": "code",
   "execution_count": 20,
   "id": "grateful-alabama",
   "metadata": {},
   "outputs": [],
   "source": [
    "acct_map=data.groupby('account')['balance'].mean().to_dict()\n",
    "data['account']=data['account'].map(acct_map)"
   ]
  },
  {
   "cell_type": "code",
   "execution_count": 21,
   "id": "occasional-murray",
   "metadata": {},
   "outputs": [
    {
     "name": "stdout",
     "output_type": "stream",
     "text": [
      "<class 'pandas.core.frame.DataFrame'>\n",
      "RangeIndex: 12043 entries, 0 to 12042\n",
      "Data columns (total 30 columns):\n",
      " #   Column                      Non-Null Count  Dtype         \n",
      "---  ------                      --------------  -----         \n",
      " 0   card_present_flag           7717 non-null   float64       \n",
      " 1   account                     12043 non-null  float64       \n",
      " 2   long_lat                    12043 non-null  object        \n",
      " 3   first_name                  12043 non-null  object        \n",
      " 4   balance                     12043 non-null  float64       \n",
      " 5   date                        12043 non-null  datetime64[ns]\n",
      " 6   age                         12043 non-null  int64         \n",
      " 7   amount                      12043 non-null  float64       \n",
      " 8   customer_id                 12043 non-null  float64       \n",
      " 9   merchant_long_lat           7717 non-null   object        \n",
      " 10  status_authorized           12043 non-null  uint8         \n",
      " 11  status_posted               12043 non-null  uint8         \n",
      " 12  txn_description_INTER BANK  12043 non-null  uint8         \n",
      " 13  txn_description_PAY/SALARY  12043 non-null  uint8         \n",
      " 14  txn_description_PAYMENT     12043 non-null  uint8         \n",
      " 15  txn_description_PHONE BANK  12043 non-null  uint8         \n",
      " 16  txn_description_POS         12043 non-null  uint8         \n",
      " 17  txn_description_SALES-POS   12043 non-null  uint8         \n",
      " 18  gender_F                    12043 non-null  uint8         \n",
      " 19  gender_M                    12043 non-null  uint8         \n",
      " 20  merchant_state_ACT          12043 non-null  uint8         \n",
      " 21  merchant_state_NSW          12043 non-null  uint8         \n",
      " 22  merchant_state_NT           12043 non-null  uint8         \n",
      " 23  merchant_state_QLD          12043 non-null  uint8         \n",
      " 24  merchant_state_SA           12043 non-null  uint8         \n",
      " 25  merchant_state_TAS          12043 non-null  uint8         \n",
      " 26  merchant_state_VIC          12043 non-null  uint8         \n",
      " 27  merchant_state_WA           12043 non-null  uint8         \n",
      " 28  movement_credit             12043 non-null  uint8         \n",
      " 29  movement_debit              12043 non-null  uint8         \n",
      "dtypes: datetime64[ns](1), float64(5), int64(1), object(3), uint8(20)\n",
      "memory usage: 1.0+ MB\n"
     ]
    }
   ],
   "source": [
    "data.info()"
   ]
  },
  {
   "cell_type": "markdown",
   "id": "occupational-compound",
   "metadata": {},
   "source": [
    "## Reconstructing First_Name Feature"
   ]
  },
  {
   "cell_type": "code",
   "execution_count": 22,
   "id": "israeli-cycle",
   "metadata": {},
   "outputs": [
    {
     "data": {
      "text/plain": [
       "array(['Diana', 'Michael', 'Rhonda', 'Robert', 'Kristin', 'Tonya',\n",
       "       'Fernando', 'Isaiah', 'Ricky', 'Jeffrey', 'Patrick', 'Karen',\n",
       "       'Ruth', 'Kimberly', 'Joseph', 'Tiffany', 'Emily', 'Christine',\n",
       "       'Ryan', 'Michelle', 'Richard', 'Jessica', 'Ronald', 'Kaitlyn',\n",
       "       'Lori', 'Virginia', 'Andrew', 'Susan', 'Luis', 'Gregory', 'Barry',\n",
       "       'Daniel', 'Renee', 'Amy', 'Christopher', 'Marissa', 'Eric',\n",
       "       'Natasha', 'Edward', 'Craig', 'Sandra', 'Debra', 'Michele',\n",
       "       'Antonio', 'Tyler', 'Lucas', 'Jonathan', 'Matthew', 'James',\n",
       "       'Mackenzie', 'Linda', 'Dustin', 'Heather', 'Derek', 'Scott',\n",
       "       'Charles', 'Tim', 'Melissa', 'Darren', 'Jacqueline', 'Cindy',\n",
       "       'Stephanie', 'Rachael', 'Mary', 'Maria', 'Timothy', 'Nathaniel',\n",
       "       'Elizabeth', 'Paul', 'Sarah', 'Alexander', 'Donald', 'Kenneth',\n",
       "       'Ashley', 'Catherine', 'Billy', 'Abigail', 'Brian', 'David',\n",
       "       'Robin'], dtype=object)"
      ]
     },
     "execution_count": 22,
     "metadata": {},
     "output_type": "execute_result"
    }
   ],
   "source": [
    "data['first_name'].unique()"
   ]
  },
  {
   "cell_type": "code",
   "execution_count": 23,
   "id": "aquatic-corporation",
   "metadata": {},
   "outputs": [
    {
     "data": {
      "text/plain": [
       "80"
      ]
     },
     "execution_count": 23,
     "metadata": {},
     "output_type": "execute_result"
    }
   ],
   "source": [
    "len(data['first_name'].unique())"
   ]
  },
  {
   "cell_type": "code",
   "execution_count": 24,
   "id": "descending-framing",
   "metadata": {},
   "outputs": [],
   "source": [
    "name_map=data.groupby('first_name')['balance'].mean().to_dict()\n",
    "data['first_name']=data['first_name'].map(name_map)"
   ]
  },
  {
   "cell_type": "markdown",
   "id": "universal-perry",
   "metadata": {},
   "source": [
    "## Handling Datetime Feature"
   ]
  },
  {
   "cell_type": "code",
   "execution_count": 25,
   "id": "referenced-imperial",
   "metadata": {},
   "outputs": [],
   "source": [
    "data['Date Year']=data['date'].dt.year\n",
    "data['Date Month']=data['date'].dt.month\n",
    "data['Date Day']=data['date'].dt.day\n",
    "data.drop('date',axis=1,inplace=True)"
   ]
  },
  {
   "cell_type": "code",
   "execution_count": 26,
   "id": "looking-patch",
   "metadata": {},
   "outputs": [
    {
     "name": "stdout",
     "output_type": "stream",
     "text": [
      "<class 'pandas.core.frame.DataFrame'>\n",
      "RangeIndex: 12043 entries, 0 to 12042\n",
      "Data columns (total 32 columns):\n",
      " #   Column                      Non-Null Count  Dtype  \n",
      "---  ------                      --------------  -----  \n",
      " 0   card_present_flag           7717 non-null   float64\n",
      " 1   account                     12043 non-null  float64\n",
      " 2   long_lat                    12043 non-null  object \n",
      " 3   first_name                  12043 non-null  float64\n",
      " 4   balance                     12043 non-null  float64\n",
      " 5   age                         12043 non-null  int64  \n",
      " 6   amount                      12043 non-null  float64\n",
      " 7   customer_id                 12043 non-null  float64\n",
      " 8   merchant_long_lat           7717 non-null   object \n",
      " 9   status_authorized           12043 non-null  uint8  \n",
      " 10  status_posted               12043 non-null  uint8  \n",
      " 11  txn_description_INTER BANK  12043 non-null  uint8  \n",
      " 12  txn_description_PAY/SALARY  12043 non-null  uint8  \n",
      " 13  txn_description_PAYMENT     12043 non-null  uint8  \n",
      " 14  txn_description_PHONE BANK  12043 non-null  uint8  \n",
      " 15  txn_description_POS         12043 non-null  uint8  \n",
      " 16  txn_description_SALES-POS   12043 non-null  uint8  \n",
      " 17  gender_F                    12043 non-null  uint8  \n",
      " 18  gender_M                    12043 non-null  uint8  \n",
      " 19  merchant_state_ACT          12043 non-null  uint8  \n",
      " 20  merchant_state_NSW          12043 non-null  uint8  \n",
      " 21  merchant_state_NT           12043 non-null  uint8  \n",
      " 22  merchant_state_QLD          12043 non-null  uint8  \n",
      " 23  merchant_state_SA           12043 non-null  uint8  \n",
      " 24  merchant_state_TAS          12043 non-null  uint8  \n",
      " 25  merchant_state_VIC          12043 non-null  uint8  \n",
      " 26  merchant_state_WA           12043 non-null  uint8  \n",
      " 27  movement_credit             12043 non-null  uint8  \n",
      " 28  movement_debit              12043 non-null  uint8  \n",
      " 29  Date Year                   12043 non-null  int64  \n",
      " 30  Date Month                  12043 non-null  int64  \n",
      " 31  Date Day                    12043 non-null  int64  \n",
      "dtypes: float64(6), int64(4), object(2), uint8(20)\n",
      "memory usage: 1.2+ MB\n"
     ]
    }
   ],
   "source": [
    "data.info()"
   ]
  },
  {
   "cell_type": "markdown",
   "id": "prompt-elevation",
   "metadata": {},
   "source": [
    "## Filling Nan Entries In Card Present Flag Feature"
   ]
  },
  {
   "cell_type": "code",
   "execution_count": 27,
   "id": "ranging-dressing",
   "metadata": {},
   "outputs": [],
   "source": [
    "data['card_present_flag'].value_counts()\n",
    "median=data['card_present_flag'].median()\n",
    "data['card_present_flag']=data['card_present_flag'].fillna(median)"
   ]
  },
  {
   "cell_type": "code",
   "execution_count": 28,
   "id": "royal-familiar",
   "metadata": {},
   "outputs": [
    {
     "name": "stdout",
     "output_type": "stream",
     "text": [
      "<class 'pandas.core.frame.DataFrame'>\n",
      "RangeIndex: 12043 entries, 0 to 12042\n",
      "Data columns (total 32 columns):\n",
      " #   Column                      Non-Null Count  Dtype  \n",
      "---  ------                      --------------  -----  \n",
      " 0   card_present_flag           12043 non-null  float64\n",
      " 1   account                     12043 non-null  float64\n",
      " 2   long_lat                    12043 non-null  object \n",
      " 3   first_name                  12043 non-null  float64\n",
      " 4   balance                     12043 non-null  float64\n",
      " 5   age                         12043 non-null  int64  \n",
      " 6   amount                      12043 non-null  float64\n",
      " 7   customer_id                 12043 non-null  float64\n",
      " 8   merchant_long_lat           7717 non-null   object \n",
      " 9   status_authorized           12043 non-null  uint8  \n",
      " 10  status_posted               12043 non-null  uint8  \n",
      " 11  txn_description_INTER BANK  12043 non-null  uint8  \n",
      " 12  txn_description_PAY/SALARY  12043 non-null  uint8  \n",
      " 13  txn_description_PAYMENT     12043 non-null  uint8  \n",
      " 14  txn_description_PHONE BANK  12043 non-null  uint8  \n",
      " 15  txn_description_POS         12043 non-null  uint8  \n",
      " 16  txn_description_SALES-POS   12043 non-null  uint8  \n",
      " 17  gender_F                    12043 non-null  uint8  \n",
      " 18  gender_M                    12043 non-null  uint8  \n",
      " 19  merchant_state_ACT          12043 non-null  uint8  \n",
      " 20  merchant_state_NSW          12043 non-null  uint8  \n",
      " 21  merchant_state_NT           12043 non-null  uint8  \n",
      " 22  merchant_state_QLD          12043 non-null  uint8  \n",
      " 23  merchant_state_SA           12043 non-null  uint8  \n",
      " 24  merchant_state_TAS          12043 non-null  uint8  \n",
      " 25  merchant_state_VIC          12043 non-null  uint8  \n",
      " 26  merchant_state_WA           12043 non-null  uint8  \n",
      " 27  movement_credit             12043 non-null  uint8  \n",
      " 28  movement_debit              12043 non-null  uint8  \n",
      " 29  Date Year                   12043 non-null  int64  \n",
      " 30  Date Month                  12043 non-null  int64  \n",
      " 31  Date Day                    12043 non-null  int64  \n",
      "dtypes: float64(6), int64(4), object(2), uint8(20)\n",
      "memory usage: 1.2+ MB\n"
     ]
    }
   ],
   "source": [
    "data.info()"
   ]
  },
  {
   "cell_type": "code",
   "execution_count": 29,
   "id": "prospective-horizontal",
   "metadata": {},
   "outputs": [
    {
     "data": {
      "text/html": [
       "<div>\n",
       "<style scoped>\n",
       "    .dataframe tbody tr th:only-of-type {\n",
       "        vertical-align: middle;\n",
       "    }\n",
       "\n",
       "    .dataframe tbody tr th {\n",
       "        vertical-align: top;\n",
       "    }\n",
       "\n",
       "    .dataframe thead th {\n",
       "        text-align: right;\n",
       "    }\n",
       "</style>\n",
       "<table border=\"1\" class=\"dataframe\">\n",
       "  <thead>\n",
       "    <tr style=\"text-align: right;\">\n",
       "      <th></th>\n",
       "      <th>card_present_flag</th>\n",
       "      <th>account</th>\n",
       "      <th>first_name</th>\n",
       "      <th>balance</th>\n",
       "      <th>age</th>\n",
       "      <th>amount</th>\n",
       "      <th>customer_id</th>\n",
       "      <th>status_authorized</th>\n",
       "      <th>status_posted</th>\n",
       "      <th>txn_description_INTER BANK</th>\n",
       "      <th>...</th>\n",
       "      <th>merchant_state_QLD</th>\n",
       "      <th>merchant_state_SA</th>\n",
       "      <th>merchant_state_TAS</th>\n",
       "      <th>merchant_state_VIC</th>\n",
       "      <th>merchant_state_WA</th>\n",
       "      <th>movement_credit</th>\n",
       "      <th>movement_debit</th>\n",
       "      <th>Date Year</th>\n",
       "      <th>Date Month</th>\n",
       "      <th>Date Day</th>\n",
       "    </tr>\n",
       "  </thead>\n",
       "  <tbody>\n",
       "    <tr>\n",
       "      <th>count</th>\n",
       "      <td>12043.000000</td>\n",
       "      <td>12043.000000</td>\n",
       "      <td>12043.000000</td>\n",
       "      <td>12043.000000</td>\n",
       "      <td>12043.000000</td>\n",
       "      <td>12043.000000</td>\n",
       "      <td>12043.000000</td>\n",
       "      <td>12043.000000</td>\n",
       "      <td>12043.000000</td>\n",
       "      <td>12043.000000</td>\n",
       "      <td>...</td>\n",
       "      <td>12043.000000</td>\n",
       "      <td>12043.000000</td>\n",
       "      <td>12043.000000</td>\n",
       "      <td>12043.000000</td>\n",
       "      <td>12043.000000</td>\n",
       "      <td>12043.000000</td>\n",
       "      <td>12043.000000</td>\n",
       "      <td>12043.0</td>\n",
       "      <td>12043.000000</td>\n",
       "      <td>12043.000000</td>\n",
       "    </tr>\n",
       "    <tr>\n",
       "      <th>mean</th>\n",
       "      <td>0.873536</td>\n",
       "      <td>14704.195553</td>\n",
       "      <td>14704.195553</td>\n",
       "      <td>14704.195553</td>\n",
       "      <td>30.582330</td>\n",
       "      <td>187.933588</td>\n",
       "      <td>14704.195553</td>\n",
       "      <td>0.640787</td>\n",
       "      <td>0.359213</td>\n",
       "      <td>0.061613</td>\n",
       "      <td>...</td>\n",
       "      <td>0.129204</td>\n",
       "      <td>0.034460</td>\n",
       "      <td>0.005646</td>\n",
       "      <td>0.176949</td>\n",
       "      <td>0.091339</td>\n",
       "      <td>0.073321</td>\n",
       "      <td>0.926679</td>\n",
       "      <td>2018.0</td>\n",
       "      <td>9.011957</td>\n",
       "      <td>15.862908</td>\n",
       "    </tr>\n",
       "    <tr>\n",
       "      <th>std</th>\n",
       "      <td>0.332385</td>\n",
       "      <td>31314.422651</td>\n",
       "      <td>30449.025689</td>\n",
       "      <td>31503.722652</td>\n",
       "      <td>10.046343</td>\n",
       "      <td>592.599934</td>\n",
       "      <td>31314.422651</td>\n",
       "      <td>0.479790</td>\n",
       "      <td>0.479790</td>\n",
       "      <td>0.240460</td>\n",
       "      <td>...</td>\n",
       "      <td>0.335439</td>\n",
       "      <td>0.182415</td>\n",
       "      <td>0.074933</td>\n",
       "      <td>0.381642</td>\n",
       "      <td>0.288103</td>\n",
       "      <td>0.260673</td>\n",
       "      <td>0.260673</td>\n",
       "      <td>0.0</td>\n",
       "      <td>0.816511</td>\n",
       "      <td>8.899598</td>\n",
       "    </tr>\n",
       "    <tr>\n",
       "      <th>min</th>\n",
       "      <td>0.000000</td>\n",
       "      <td>1191.291419</td>\n",
       "      <td>1735.120675</td>\n",
       "      <td>0.240000</td>\n",
       "      <td>18.000000</td>\n",
       "      <td>0.100000</td>\n",
       "      <td>1191.291419</td>\n",
       "      <td>0.000000</td>\n",
       "      <td>0.000000</td>\n",
       "      <td>0.000000</td>\n",
       "      <td>...</td>\n",
       "      <td>0.000000</td>\n",
       "      <td>0.000000</td>\n",
       "      <td>0.000000</td>\n",
       "      <td>0.000000</td>\n",
       "      <td>0.000000</td>\n",
       "      <td>0.000000</td>\n",
       "      <td>0.000000</td>\n",
       "      <td>2018.0</td>\n",
       "      <td>8.000000</td>\n",
       "      <td>1.000000</td>\n",
       "    </tr>\n",
       "    <tr>\n",
       "      <th>25%</th>\n",
       "      <td>1.000000</td>\n",
       "      <td>3693.480219</td>\n",
       "      <td>4024.437245</td>\n",
       "      <td>3158.585000</td>\n",
       "      <td>22.000000</td>\n",
       "      <td>16.000000</td>\n",
       "      <td>3693.480219</td>\n",
       "      <td>0.000000</td>\n",
       "      <td>0.000000</td>\n",
       "      <td>0.000000</td>\n",
       "      <td>...</td>\n",
       "      <td>0.000000</td>\n",
       "      <td>0.000000</td>\n",
       "      <td>0.000000</td>\n",
       "      <td>0.000000</td>\n",
       "      <td>0.000000</td>\n",
       "      <td>0.000000</td>\n",
       "      <td>1.000000</td>\n",
       "      <td>2018.0</td>\n",
       "      <td>8.000000</td>\n",
       "      <td>8.000000</td>\n",
       "    </tr>\n",
       "    <tr>\n",
       "      <th>50%</th>\n",
       "      <td>1.000000</td>\n",
       "      <td>6138.652540</td>\n",
       "      <td>6942.689862</td>\n",
       "      <td>6432.010000</td>\n",
       "      <td>28.000000</td>\n",
       "      <td>29.000000</td>\n",
       "      <td>6138.652540</td>\n",
       "      <td>1.000000</td>\n",
       "      <td>0.000000</td>\n",
       "      <td>0.000000</td>\n",
       "      <td>...</td>\n",
       "      <td>0.000000</td>\n",
       "      <td>0.000000</td>\n",
       "      <td>0.000000</td>\n",
       "      <td>0.000000</td>\n",
       "      <td>0.000000</td>\n",
       "      <td>0.000000</td>\n",
       "      <td>1.000000</td>\n",
       "      <td>2018.0</td>\n",
       "      <td>9.000000</td>\n",
       "      <td>16.000000</td>\n",
       "    </tr>\n",
       "    <tr>\n",
       "      <th>75%</th>\n",
       "      <td>1.000000</td>\n",
       "      <td>11885.744948</td>\n",
       "      <td>13368.370517</td>\n",
       "      <td>12465.945000</td>\n",
       "      <td>38.000000</td>\n",
       "      <td>53.655000</td>\n",
       "      <td>11885.744948</td>\n",
       "      <td>1.000000</td>\n",
       "      <td>1.000000</td>\n",
       "      <td>0.000000</td>\n",
       "      <td>...</td>\n",
       "      <td>0.000000</td>\n",
       "      <td>0.000000</td>\n",
       "      <td>0.000000</td>\n",
       "      <td>0.000000</td>\n",
       "      <td>0.000000</td>\n",
       "      <td>0.000000</td>\n",
       "      <td>1.000000</td>\n",
       "      <td>2018.0</td>\n",
       "      <td>10.000000</td>\n",
       "      <td>24.000000</td>\n",
       "    </tr>\n",
       "    <tr>\n",
       "      <th>max</th>\n",
       "      <td>1.000000</td>\n",
       "      <td>263753.766119</td>\n",
       "      <td>263753.766119</td>\n",
       "      <td>267128.520000</td>\n",
       "      <td>78.000000</td>\n",
       "      <td>8835.980000</td>\n",
       "      <td>263753.766119</td>\n",
       "      <td>1.000000</td>\n",
       "      <td>1.000000</td>\n",
       "      <td>1.000000</td>\n",
       "      <td>...</td>\n",
       "      <td>1.000000</td>\n",
       "      <td>1.000000</td>\n",
       "      <td>1.000000</td>\n",
       "      <td>1.000000</td>\n",
       "      <td>1.000000</td>\n",
       "      <td>1.000000</td>\n",
       "      <td>1.000000</td>\n",
       "      <td>2018.0</td>\n",
       "      <td>10.000000</td>\n",
       "      <td>31.000000</td>\n",
       "    </tr>\n",
       "  </tbody>\n",
       "</table>\n",
       "<p>8 rows × 30 columns</p>\n",
       "</div>"
      ],
      "text/plain": [
       "       card_present_flag        account     first_name        balance  \\\n",
       "count       12043.000000   12043.000000   12043.000000   12043.000000   \n",
       "mean            0.873536   14704.195553   14704.195553   14704.195553   \n",
       "std             0.332385   31314.422651   30449.025689   31503.722652   \n",
       "min             0.000000    1191.291419    1735.120675       0.240000   \n",
       "25%             1.000000    3693.480219    4024.437245    3158.585000   \n",
       "50%             1.000000    6138.652540    6942.689862    6432.010000   \n",
       "75%             1.000000   11885.744948   13368.370517   12465.945000   \n",
       "max             1.000000  263753.766119  263753.766119  267128.520000   \n",
       "\n",
       "                age        amount    customer_id  status_authorized  \\\n",
       "count  12043.000000  12043.000000   12043.000000       12043.000000   \n",
       "mean      30.582330    187.933588   14704.195553           0.640787   \n",
       "std       10.046343    592.599934   31314.422651           0.479790   \n",
       "min       18.000000      0.100000    1191.291419           0.000000   \n",
       "25%       22.000000     16.000000    3693.480219           0.000000   \n",
       "50%       28.000000     29.000000    6138.652540           1.000000   \n",
       "75%       38.000000     53.655000   11885.744948           1.000000   \n",
       "max       78.000000   8835.980000  263753.766119           1.000000   \n",
       "\n",
       "       status_posted  txn_description_INTER BANK  ...  merchant_state_QLD  \\\n",
       "count   12043.000000                12043.000000  ...        12043.000000   \n",
       "mean        0.359213                    0.061613  ...            0.129204   \n",
       "std         0.479790                    0.240460  ...            0.335439   \n",
       "min         0.000000                    0.000000  ...            0.000000   \n",
       "25%         0.000000                    0.000000  ...            0.000000   \n",
       "50%         0.000000                    0.000000  ...            0.000000   \n",
       "75%         1.000000                    0.000000  ...            0.000000   \n",
       "max         1.000000                    1.000000  ...            1.000000   \n",
       "\n",
       "       merchant_state_SA  merchant_state_TAS  merchant_state_VIC  \\\n",
       "count       12043.000000        12043.000000        12043.000000   \n",
       "mean            0.034460            0.005646            0.176949   \n",
       "std             0.182415            0.074933            0.381642   \n",
       "min             0.000000            0.000000            0.000000   \n",
       "25%             0.000000            0.000000            0.000000   \n",
       "50%             0.000000            0.000000            0.000000   \n",
       "75%             0.000000            0.000000            0.000000   \n",
       "max             1.000000            1.000000            1.000000   \n",
       "\n",
       "       merchant_state_WA  movement_credit  movement_debit  Date Year  \\\n",
       "count       12043.000000     12043.000000    12043.000000    12043.0   \n",
       "mean            0.091339         0.073321        0.926679     2018.0   \n",
       "std             0.288103         0.260673        0.260673        0.0   \n",
       "min             0.000000         0.000000        0.000000     2018.0   \n",
       "25%             0.000000         0.000000        1.000000     2018.0   \n",
       "50%             0.000000         0.000000        1.000000     2018.0   \n",
       "75%             0.000000         0.000000        1.000000     2018.0   \n",
       "max             1.000000         1.000000        1.000000     2018.0   \n",
       "\n",
       "         Date Month      Date Day  \n",
       "count  12043.000000  12043.000000  \n",
       "mean       9.011957     15.862908  \n",
       "std        0.816511      8.899598  \n",
       "min        8.000000      1.000000  \n",
       "25%        8.000000      8.000000  \n",
       "50%        9.000000     16.000000  \n",
       "75%       10.000000     24.000000  \n",
       "max       10.000000     31.000000  \n",
       "\n",
       "[8 rows x 30 columns]"
      ]
     },
     "execution_count": 29,
     "metadata": {},
     "output_type": "execute_result"
    }
   ],
   "source": [
    "data.describe()"
   ]
  },
  {
   "cell_type": "markdown",
   "id": "pregnant-subcommittee",
   "metadata": {},
   "source": [
    "## Handling Longitude And Latitude Feature"
   ]
  },
  {
   "cell_type": "code",
   "execution_count": 30,
   "id": "potential-lotus",
   "metadata": {},
   "outputs": [
    {
     "name": "stdout",
     "output_type": "stream",
     "text": [
      "0        153.41 -27.95\n",
      "1        153.41 -27.95\n",
      "2        151.23 -33.94\n",
      "3        153.10 -27.66\n",
      "4        153.41 -27.95\n",
      "             ...      \n",
      "12038    149.83 -29.47\n",
      "12039    151.22 -33.87\n",
      "12040    151.12 -33.89\n",
      "12041    144.96 -37.76\n",
      "12042    150.92 -33.77\n",
      "Name: long_lat, Length: 12043, dtype: object\n"
     ]
    }
   ],
   "source": [
    "print(data.long_lat)"
   ]
  },
  {
   "cell_type": "code",
   "execution_count": 31,
   "id": "dirty-vegetation",
   "metadata": {},
   "outputs": [
    {
     "name": "stderr",
     "output_type": "stream",
     "text": [
      "<ipython-input-31-56ceef3ff36c>:9: SettingWithCopyWarning: \n",
      "A value is trying to be set on a copy of a slice from a DataFrame\n",
      "\n",
      "See the caveats in the documentation: https://pandas.pydata.org/pandas-docs/stable/user_guide/indexing.html#returning-a-view-versus-a-copy\n",
      "  data['Longitude'][i]=b\n",
      "<ipython-input-31-56ceef3ff36c>:10: SettingWithCopyWarning: \n",
      "A value is trying to be set on a copy of a slice from a DataFrame\n",
      "\n",
      "See the caveats in the documentation: https://pandas.pydata.org/pandas-docs/stable/user_guide/indexing.html#returning-a-view-versus-a-copy\n",
      "  data['Latitude'][i]=c\n"
     ]
    }
   ],
   "source": [
    "#Splitting the object entry containg the longitude and latitude values into their respective feature columns\n",
    "ll_data=data.long_lat\n",
    "data['Longitude']=data.long_lat.copy()\n",
    "data['Latitude']=data.long_lat.copy()\n",
    "\n",
    "for i in range(len(ll_data)):\n",
    "    b=ll_data[i].split('-')[0]\n",
    "    c=ll_data[i].split('-')[1]    \n",
    "    data['Longitude'][i]=b\n",
    "    data['Latitude'][i]=c"
   ]
  },
  {
   "cell_type": "code",
   "execution_count": 32,
   "id": "institutional-impossible",
   "metadata": {},
   "outputs": [
    {
     "data": {
      "text/plain": [
       "153.41     723\n",
       "151.23     417\n",
       "116.06     292\n",
       "151.27     280\n",
       "115.79     261\n",
       "          ... \n",
       "145.18      44\n",
       "149.19      37\n",
       "145.09      34\n",
       "130.98      31\n",
       "147.61      25\n",
       "Name: Longitude, Length: 87, dtype: int64"
      ]
     },
     "execution_count": 32,
     "metadata": {},
     "output_type": "execute_result"
    }
   ],
   "source": [
    "data['Longitude'].value_counts()"
   ]
  },
  {
   "cell_type": "code",
   "execution_count": 33,
   "id": "copyrighted-channel",
   "metadata": {},
   "outputs": [
    {
     "data": {
      "text/plain": [
       "27.95    578\n",
       "37.84    457\n",
       "37.76    352\n",
       "27.66    339\n",
       "33.94    303\n",
       "        ... \n",
       "33.93     55\n",
       "38.03     52\n",
       "35.25     40\n",
       "21.15     37\n",
       "12.49     31\n",
       "Name: Latitude, Length: 85, dtype: int64"
      ]
     },
     "execution_count": 33,
     "metadata": {},
     "output_type": "execute_result"
    }
   ],
   "source": [
    "data['Latitude'].value_counts()"
   ]
  },
  {
   "cell_type": "code",
   "execution_count": 34,
   "id": "instant-subdivision",
   "metadata": {},
   "outputs": [],
   "source": [
    "data['Longitude']=data['Longitude'].astype('float64')\n",
    "data['Latitude']=data['Latitude'].astype('float64')"
   ]
  },
  {
   "cell_type": "code",
   "execution_count": 35,
   "id": "checked-forest",
   "metadata": {},
   "outputs": [
    {
     "name": "stdout",
     "output_type": "stream",
     "text": [
      "<class 'pandas.core.frame.DataFrame'>\n",
      "RangeIndex: 12043 entries, 0 to 12042\n",
      "Data columns (total 34 columns):\n",
      " #   Column                      Non-Null Count  Dtype  \n",
      "---  ------                      --------------  -----  \n",
      " 0   card_present_flag           12043 non-null  float64\n",
      " 1   account                     12043 non-null  float64\n",
      " 2   long_lat                    12043 non-null  object \n",
      " 3   first_name                  12043 non-null  float64\n",
      " 4   balance                     12043 non-null  float64\n",
      " 5   age                         12043 non-null  int64  \n",
      " 6   amount                      12043 non-null  float64\n",
      " 7   customer_id                 12043 non-null  float64\n",
      " 8   merchant_long_lat           7717 non-null   object \n",
      " 9   status_authorized           12043 non-null  uint8  \n",
      " 10  status_posted               12043 non-null  uint8  \n",
      " 11  txn_description_INTER BANK  12043 non-null  uint8  \n",
      " 12  txn_description_PAY/SALARY  12043 non-null  uint8  \n",
      " 13  txn_description_PAYMENT     12043 non-null  uint8  \n",
      " 14  txn_description_PHONE BANK  12043 non-null  uint8  \n",
      " 15  txn_description_POS         12043 non-null  uint8  \n",
      " 16  txn_description_SALES-POS   12043 non-null  uint8  \n",
      " 17  gender_F                    12043 non-null  uint8  \n",
      " 18  gender_M                    12043 non-null  uint8  \n",
      " 19  merchant_state_ACT          12043 non-null  uint8  \n",
      " 20  merchant_state_NSW          12043 non-null  uint8  \n",
      " 21  merchant_state_NT           12043 non-null  uint8  \n",
      " 22  merchant_state_QLD          12043 non-null  uint8  \n",
      " 23  merchant_state_SA           12043 non-null  uint8  \n",
      " 24  merchant_state_TAS          12043 non-null  uint8  \n",
      " 25  merchant_state_VIC          12043 non-null  uint8  \n",
      " 26  merchant_state_WA           12043 non-null  uint8  \n",
      " 27  movement_credit             12043 non-null  uint8  \n",
      " 28  movement_debit              12043 non-null  uint8  \n",
      " 29  Date Year                   12043 non-null  int64  \n",
      " 30  Date Month                  12043 non-null  int64  \n",
      " 31  Date Day                    12043 non-null  int64  \n",
      " 32  Longitude                   12043 non-null  float64\n",
      " 33  Latitude                    12043 non-null  float64\n",
      "dtypes: float64(8), int64(4), object(2), uint8(20)\n",
      "memory usage: 1.4+ MB\n"
     ]
    }
   ],
   "source": [
    "data.info()"
   ]
  },
  {
   "cell_type": "code",
   "execution_count": 36,
   "id": "precise-suicide",
   "metadata": {},
   "outputs": [],
   "source": [
    "data.drop(['long_lat','merchant_long_lat'],axis=1,inplace=True)"
   ]
  },
  {
   "cell_type": "code",
   "execution_count": 37,
   "id": "sonic-teach",
   "metadata": {},
   "outputs": [
    {
     "name": "stdout",
     "output_type": "stream",
     "text": [
      "Identified Outlier:123\n"
     ]
    },
    {
     "name": "stderr",
     "output_type": "stream",
     "text": [
      "<ipython-input-37-db9805729193>:8: SettingWithCopyWarning: \n",
      "A value is trying to be set on a copy of a slice from a DataFrame\n",
      "\n",
      "See the caveats in the documentation: https://pandas.pydata.org/pandas-docs/stable/user_guide/indexing.html#returning-a-view-versus-a-copy\n",
      "  data['Latitude'][data['Latitude']==out]=lat_mean\n"
     ]
    },
    {
     "name": "stdout",
     "output_type": "stream",
     "text": [
      "Identified Outlier:123\n"
     ]
    },
    {
     "name": "stderr",
     "output_type": "stream",
     "text": [
      "<ipython-input-37-db9805729193>:18: SettingWithCopyWarning: \n",
      "A value is trying to be set on a copy of a slice from a DataFrame\n",
      "\n",
      "See the caveats in the documentation: https://pandas.pydata.org/pandas-docs/stable/user_guide/indexing.html#returning-a-view-versus-a-copy\n",
      "  data['Longitude'][data['Longitude']==out]=long_mean\n"
     ]
    }
   ],
   "source": [
    "lat_mean,lat_std=data['Latitude'].mean(),data['Latitude'].std()\n",
    "cut_off=lat_std*0.5\n",
    "lower,upper=lat_mean-cut_off,lat_mean+cut_off\n",
    "outliers=[data for data in data['Latitude'] if data<lower or data>upper]\n",
    "print('Identified Outlier:{}'.format(len(outliers)))\n",
    "\n",
    "for out in outliers:\n",
    "    data['Latitude'][data['Latitude']==out]=lat_mean\n",
    "    \n",
    "\n",
    "long_mean,long_std=data['Longitude'].mean(),data['Longitude'].std()\n",
    "cut_off=long_std*3\n",
    "lower,upper=long_mean-cut_off,long_mean+cut_off\n",
    "outliers=[data for data in data['Longitude'] if data<lower or data>upper]\n",
    "print('Identified Outlier:{}'.format(len(outliers)))\n",
    "\n",
    "for out in outliers:\n",
    "    data['Longitude'][data['Longitude']==out]=long_mean    "
   ]
  },
  {
   "cell_type": "markdown",
   "id": "decent-plaza",
   "metadata": {},
   "source": [
    "## Feature Correlation After Feature Engineering"
   ]
  },
  {
   "cell_type": "code",
   "execution_count": 38,
   "id": "republican-chicago",
   "metadata": {},
   "outputs": [
    {
     "data": {
      "text/plain": [
       "balance                       1.000000\n",
       "account                       0.993991\n",
       "customer_id                   0.993991\n",
       "first_name                    0.966522\n",
       "age                           0.199329\n",
       "Latitude                      0.131207\n",
       "status_posted                 0.120117\n",
       "Date Month                    0.099208\n",
       "gender_M                      0.080302\n",
       "txn_description_INTER BANK    0.074174\n",
       "txn_description_PAYMENT       0.073110\n",
       "merchant_state_VIC            0.072843\n",
       "txn_description_PHONE BANK    0.067239\n",
       "amount                        0.059178\n",
       "card_present_flag             0.037971\n",
       "Date Day                      0.016902\n",
       "txn_description_PAY/SALARY    0.013739\n",
       "movement_credit               0.013739\n",
       "Longitude                    -0.004185\n",
       "merchant_state_ACT           -0.005491\n",
       "merchant_state_TAS           -0.007830\n",
       "movement_debit               -0.013739\n",
       "merchant_state_SA            -0.021312\n",
       "merchant_state_NT            -0.038271\n",
       "merchant_state_WA            -0.049664\n",
       "txn_description_POS          -0.060865\n",
       "txn_description_SALES-POS    -0.062639\n",
       "merchant_state_NSW           -0.078195\n",
       "gender_F                     -0.080302\n",
       "merchant_state_QLD           -0.093078\n",
       "status_authorized            -0.120117\n",
       "Date Year                          NaN\n",
       "Name: balance, dtype: float64"
      ]
     },
     "execution_count": 38,
     "metadata": {},
     "output_type": "execute_result"
    }
   ],
   "source": [
    "corr_matrix=data.corr()\n",
    "corr_matrix['balance'].sort_values(ascending=False)"
   ]
  },
  {
   "cell_type": "code",
   "execution_count": 39,
   "id": "egyptian-consequence",
   "metadata": {},
   "outputs": [
    {
     "data": {
      "text/plain": [
       "<matplotlib.axes._subplots.AxesSubplot at 0xe7525358>"
      ]
     },
     "execution_count": 39,
     "metadata": {},
     "output_type": "execute_result"
    },
    {
     "data": {
      "image/png": "[encoded data removed]",
      "text/plain": [
       "<Figure size 432x288 with 2 Axes>"
      ]
     },
     "metadata": {
      "needs_background": "light"
     },
     "output_type": "display_data"
    }
   ],
   "source": [
    "data_c=data[['balance','account','customer_id','amount','age','first_name','Longitude','Latitude']]\n",
    "sns.heatmap(data_c.corr(method='pearson'),annot=True)"
   ]
  },
  {
   "cell_type": "code",
   "execution_count": 40,
   "id": "orange-inspiration",
   "metadata": {},
   "outputs": [
    {
     "data": {
      "text/plain": [
       "<matplotlib.axes._subplots.AxesSubplot at 0xe74e3eb0>"
      ]
     },
     "execution_count": 40,
     "metadata": {},
     "output_type": "execute_result"
    },
    {
     "data": {
      "image/png": "[encoded data removed]",
      "text/plain": [
       "<Figure size 432x288 with 2 Axes>"
      ]
     },
     "metadata": {
      "needs_background": "light"
     },
     "output_type": "display_data"
    }
   ],
   "source": [
    "sns.heatmap(data_c.corr(method='spearman'),annot=True)"
   ]
  },
  {
   "cell_type": "markdown",
   "id": "tested-place",
   "metadata": {},
   "source": [
    "After performing feature engineering on the dataset we can observe that much more data are correlating with each other, and even with stronger correlation values."
   ]
  },
  {
   "cell_type": "markdown",
   "id": "expressed-soldier",
   "metadata": {},
   "source": [
    "Now lets examine some correlations amongst the engineered features."
   ]
  },
  {
   "cell_type": "code",
   "execution_count": 41,
   "id": "local-tension",
   "metadata": {},
   "outputs": [
    {
     "data": {
      "text/plain": [
       "<matplotlib.axes._subplots.AxesSubplot at 0xe7496550>"
      ]
     },
     "execution_count": 41,
     "metadata": {},
     "output_type": "execute_result"
    },
    {
     "data": {
      "image/png": "[encoded data removed]",
      "text/plain": [
       "<Figure size 432x288 with 1 Axes>"
      ]
     },
     "metadata": {
      "needs_background": "light"
     },
     "output_type": "display_data"
    }
   ],
   "source": [
    "sns.scatterplot(x='age',y='amount',hue='balance',data=data)"
   ]
  },
  {
   "cell_type": "code",
   "execution_count": 42,
   "id": "fleet-mortality",
   "metadata": {},
   "outputs": [
    {
     "data": {
      "text/plain": [
       "<matplotlib.axes._subplots.AxesSubplot at 0xe74b66e8>"
      ]
     },
     "execution_count": 42,
     "metadata": {},
     "output_type": "execute_result"
    },
    {
     "data": {
      "image/png": "[encoded data removed]",
      "text/plain": [
       "<Figure size 432x288 with 1 Axes>"
      ]
     },
     "metadata": {
      "needs_background": "light"
     },
     "output_type": "display_data"
    }
   ],
   "source": [
    "sns.scatterplot(x='age',y='balance',hue='balance',data=data)"
   ]
  },
  {
   "cell_type": "code",
   "execution_count": 43,
   "id": "hidden-yield",
   "metadata": {},
   "outputs": [
    {
     "data": {
      "text/plain": [
       "<matplotlib.axes._subplots.AxesSubplot at 0xe4c2f400>"
      ]
     },
     "execution_count": 43,
     "metadata": {},
     "output_type": "execute_result"
    },
    {
     "data": {
      "image/png": "[encoded data removed]",
      "text/plain": [
       "<Figure size 432x288 with 1 Axes>"
      ]
     },
     "metadata": {
      "needs_background": "light"
     },
     "output_type": "display_data"
    }
   ],
   "source": [
    "sns.scatterplot(x='amount',y='customer_id',hue='balance',data=data)"
   ]
  },
  {
   "cell_type": "code",
   "execution_count": 44,
   "id": "regulated-portugal",
   "metadata": {},
   "outputs": [
    {
     "data": {
      "text/plain": [
       "<matplotlib.axes._subplots.AxesSubplot at 0xe4bd2bf8>"
      ]
     },
     "execution_count": 44,
     "metadata": {},
     "output_type": "execute_result"
    },
    {
     "data": {
      "image/png": "[encoded data removed]",
      "text/plain": [
       "<Figure size 432x288 with 1 Axes>"
      ]
     },
     "metadata": {
      "needs_background": "light"
     },
     "output_type": "display_data"
    }
   ],
   "source": [
    "sns.scatterplot(x='Longitude',y='Latitude',data=data)"
   ]
  },
  {
   "cell_type": "code",
   "execution_count": 45,
   "id": "streaming-ratio",
   "metadata": {},
   "outputs": [
    {
     "data": {
      "text/plain": [
       "<matplotlib.axes._subplots.AxesSubplot at 0xe4b87b20>"
      ]
     },
     "execution_count": 45,
     "metadata": {},
     "output_type": "execute_result"
    },
    {
     "data": {
      "image/png": "[encoded data removed]",
      "text/plain": [
       "<Figure size 432x288 with 1 Axes>"
      ]
     },
     "metadata": {
      "needs_background": "light"
     },
     "output_type": "display_data"
    }
   ],
   "source": [
    "sns.scatterplot(x='Longitude',y='Latitude',hue='balance',data=data)"
   ]
  },
  {
   "cell_type": "code",
   "execution_count": 46,
   "id": "automated-delay",
   "metadata": {},
   "outputs": [
    {
     "data": {
      "text/plain": [
       "<matplotlib.axes._subplots.AxesSubplot at 0xe4c08f88>"
      ]
     },
     "execution_count": 46,
     "metadata": {},
     "output_type": "execute_result"
    },
    {
     "data": {
      "image/png": "[encoded data removed]",
      "text/plain": [
       "<Figure size 432x288 with 1 Axes>"
      ]
     },
     "metadata": {
      "needs_background": "light"
     },
     "output_type": "display_data"
    }
   ],
   "source": [
    "sns.scatterplot(x='first_name',y='account',hue='balance',data=data)"
   ]
  },
  {
   "cell_type": "markdown",
   "id": "thousand-scene",
   "metadata": {},
   "source": [
    "## Splitting The Dataset For Model Training"
   ]
  },
  {
   "cell_type": "code",
   "execution_count": 47,
   "id": "speaking-drink",
   "metadata": {},
   "outputs": [],
   "source": [
    "from sklearn.model_selection import train_test_split\n",
    "from sklearn.linear_model import LinearRegression,Ridge,Lasso\n",
    "from sklearn.tree import DecisionTreeRegressor\n",
    "from sklearn.ensemble import RandomForestRegressor,GradientBoostingRegressor\n",
    "from sklearn.svm import SVR\n",
    "from sklearn.metrics import r2_score,mean_squared_error"
   ]
  },
  {
   "cell_type": "code",
   "execution_count": 48,
   "id": "advance-declaration",
   "metadata": {},
   "outputs": [
    {
     "name": "stdout",
     "output_type": "stream",
     "text": [
      "<class 'pandas.core.frame.DataFrame'>\n",
      "RangeIndex: 12043 entries, 0 to 12042\n",
      "Data columns (total 32 columns):\n",
      " #   Column                      Non-Null Count  Dtype  \n",
      "---  ------                      --------------  -----  \n",
      " 0   card_present_flag           12043 non-null  float64\n",
      " 1   account                     12043 non-null  float64\n",
      " 2   first_name                  12043 non-null  float64\n",
      " 3   balance                     12043 non-null  float64\n",
      " 4   age                         12043 non-null  int64  \n",
      " 5   amount                      12043 non-null  float64\n",
      " 6   customer_id                 12043 non-null  float64\n",
      " 7   status_authorized           12043 non-null  uint8  \n",
      " 8   status_posted               12043 non-null  uint8  \n",
      " 9   txn_description_INTER BANK  12043 non-null  uint8  \n",
      " 10  txn_description_PAY/SALARY  12043 non-null  uint8  \n",
      " 11  txn_description_PAYMENT     12043 non-null  uint8  \n",
      " 12  txn_description_PHONE BANK  12043 non-null  uint8  \n",
      " 13  txn_description_POS         12043 non-null  uint8  \n",
      " 14  txn_description_SALES-POS   12043 non-null  uint8  \n",
      " 15  gender_F                    12043 non-null  uint8  \n",
      " 16  gender_M                    12043 non-null  uint8  \n",
      " 17  merchant_state_ACT          12043 non-null  uint8  \n",
      " 18  merchant_state_NSW          12043 non-null  uint8  \n",
      " 19  merchant_state_NT           12043 non-null  uint8  \n",
      " 20  merchant_state_QLD          12043 non-null  uint8  \n",
      " 21  merchant_state_SA           12043 non-null  uint8  \n",
      " 22  merchant_state_TAS          12043 non-null  uint8  \n",
      " 23  merchant_state_VIC          12043 non-null  uint8  \n",
      " 24  merchant_state_WA           12043 non-null  uint8  \n",
      " 25  movement_credit             12043 non-null  uint8  \n",
      " 26  movement_debit              12043 non-null  uint8  \n",
      " 27  Date Year                   12043 non-null  int64  \n",
      " 28  Date Month                  12043 non-null  int64  \n",
      " 29  Date Day                    12043 non-null  int64  \n",
      " 30  Longitude                   12043 non-null  float64\n",
      " 31  Latitude                    12043 non-null  float64\n",
      "dtypes: float64(8), int64(4), uint8(20)\n",
      "memory usage: 1.3 MB\n"
     ]
    }
   ],
   "source": [
    "data.info()"
   ]
  },
  {
   "cell_type": "code",
   "execution_count": 49,
   "id": "employed-celebrity",
   "metadata": {},
   "outputs": [],
   "source": [
    "X=data.drop('balance',axis=1)\n",
    "y=data.balance"
   ]
  },
  {
   "cell_type": "code",
   "execution_count": 50,
   "id": "comic-twenty",
   "metadata": {
    "scrolled": true
   },
   "outputs": [],
   "source": [
    "X_train,X_test,y_train,y_test=train_test_split(X,y,random_state=16)"
   ]
  },
  {
   "cell_type": "markdown",
   "id": "worst-moral",
   "metadata": {},
   "source": [
    "## Linear Regression Model"
   ]
  },
  {
   "cell_type": "code",
   "execution_count": 51,
   "id": "smaller-surgery",
   "metadata": {},
   "outputs": [
    {
     "name": "stdout",
     "output_type": "stream",
     "text": [
      "Train set score:0.996\n",
      "Test set score:0.995\n"
     ]
    }
   ],
   "source": [
    "lr=LinearRegression()\n",
    "lr.fit(X_train,y_train)\n",
    "print('Train set score:{:.3f}'.format(lr.score(X_train,y_train)))\n",
    "print('Test set score:{:.3f}'.format(lr.score(X_test,y_test)))"
   ]
  },
  {
   "cell_type": "markdown",
   "id": "enclosed-beauty",
   "metadata": {},
   "source": [
    "## Tree Model"
   ]
  },
  {
   "cell_type": "code",
   "execution_count": 52,
   "id": "partial-evans",
   "metadata": {},
   "outputs": [
    {
     "name": "stdout",
     "output_type": "stream",
     "text": [
      "Train set score:1.000\n",
      "Test set score:0.999\n"
     ]
    }
   ],
   "source": [
    "dt=DecisionTreeRegressor(random_state=16)\n",
    "dt.fit(X_train,y_train)\n",
    "print('Train set score:{:.3f}'.format(dt.score(X_train,y_train)))\n",
    "print('Test set score:{:.3f}'.format(dt.score(X_test,y_test)))"
   ]
  },
  {
   "cell_type": "markdown",
   "id": "charming-breakdown",
   "metadata": {},
   "source": [
    "# Evaluation Metric Analysis"
   ]
  },
  {
   "cell_type": "markdown",
   "id": "unknown-better",
   "metadata": {},
   "source": [
    "## R2 Accuracy Score"
   ]
  },
  {
   "cell_type": "code",
   "execution_count": 53,
   "id": "bored-calibration",
   "metadata": {},
   "outputs": [],
   "source": [
    "linear_pred=lr.predict(X_test)\n",
    "tree_pred=dt.predict(X_test)"
   ]
  },
  {
   "cell_type": "code",
   "execution_count": 54,
   "id": "continental-train",
   "metadata": {},
   "outputs": [
    {
     "name": "stdout",
     "output_type": "stream",
     "text": [
      "R squared value for linear regression model:0.995\n",
      "R squared value for decision tree regression model:0.999\n"
     ]
    }
   ],
   "source": [
    "print('R squared value for linear regression model:{:.3f}'.format(r2_score(y_test,linear_pred)))\n",
    "print('R squared value for decision tree regression model:{:.3f}'.format(r2_score(y_test,tree_pred)))"
   ]
  },
  {
   "cell_type": "markdown",
   "id": "regulation-locking",
   "metadata": {},
   "source": [
    "Without skeptically parameter tuning we can see that decision tree regression model perform better than the linear regression model using the r2 accuracy score"
   ]
  },
  {
   "cell_type": "markdown",
   "id": "common-submission",
   "metadata": {},
   "source": [
    "## Root mean squared error"
   ]
  },
  {
   "cell_type": "code",
   "execution_count": 55,
   "id": "tight-yield",
   "metadata": {},
   "outputs": [
    {
     "name": "stdout",
     "output_type": "stream",
     "text": [
      "Root Mean Square For The Linear Regression Model:2137.456\n",
      "Root Mean Square For The Decision Tree Regression Model:936.439\n"
     ]
    }
   ],
   "source": [
    "lin_mse=mean_squared_error(y_test,linear_pred)\n",
    "lin_rmse=np.sqrt(lin_mse)\n",
    "print('Root Mean Square For The Linear Regression Model:{:.3f}'.format(lin_rmse))\n",
    "\n",
    "dt_mse=mean_squared_error(y_test,tree_pred)\n",
    "dt_rmse=np.sqrt(dt_mse)\n",
    "print('Root Mean Square For The Decision Tree Regression Model:{:.3f}'.format(dt_rmse))"
   ]
  },
  {
   "cell_type": "markdown",
   "id": "alpha-balance",
   "metadata": {},
   "source": [
    "The average balance during over the 3 recorded months is about 14700 so a mean error of about 936 australian dollar is pretty much fine to work with compared to a mean error of 2137 australian dollar which although isn't so bad either."
   ]
  },
  {
   "cell_type": "markdown",
   "id": "breeding-intersection",
   "metadata": {},
   "source": [
    "## Conclusion"
   ]
  },
  {
   "cell_type": "markdown",
   "id": "large-watson",
   "metadata": {},
   "source": [
    "Therefore we can conclude that the decision tree regressor is a better regression model for the ANZ synthesised transaction dataset."
   ]
  }
 ],
 "metadata": {
  "kernelspec": {
   "display_name": "Python 3",
   "language": "python",
   "name": "python3"
  },
  "language_info": {
   "codemirror_mode": {
    "name": "ipython",
    "version": 3
   },
   "file_extension": ".py",
   "mimetype": "text/x-python",
   "name": "python",
   "nbconvert_exporter": "python",
   "pygments_lexer": "ipython3",
   "version": "3.8.3"
  }
 },
 "nbformat": 4,
 "nbformat_minor": 5
}
