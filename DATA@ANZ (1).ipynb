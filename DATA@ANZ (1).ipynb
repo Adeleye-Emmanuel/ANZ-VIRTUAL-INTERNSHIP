{
 "cells": [
  {
   "cell_type": "code",
   "execution_count": 1,
   "id": "raised-generic",
   "metadata": {},
   "outputs": [],
   "source": [
    "import numpy as np\n",
    "import pandas as pd\n",
    "import seaborn as sns\n",
    "import matplotlib.pyplot as plt\n",
    "%matplotlib inline"
   ]
  },
  {
   "cell_type": "code",
   "execution_count": 2,
   "id": "corrected-bleeding",
   "metadata": {},
   "outputs": [],
   "source": [
    "data=pd.read_excel('/storage/emulated/0/Download/ANZ.xlsx',engine='openpyxl')"
   ]
  },
  {
   "cell_type": "code",
   "execution_count": 3,
   "id": "innovative-assets",
   "metadata": {},
   "outputs": [
    {
     "data": {
      "text/html": [
       "<div>\n",
       "<style scoped>\n",
       "    .dataframe tbody tr th:only-of-type {\n",
       "        vertical-align: middle;\n",
       "    }\n",
       "\n",
       "    .dataframe tbody tr th {\n",
       "        vertical-align: top;\n",
       "    }\n",
       "\n",
       "    .dataframe thead th {\n",
       "        text-align: right;\n",
       "    }\n",
       "</style>\n",
       "<table border=\"1\" class=\"dataframe\">\n",
       "  <thead>\n",
       "    <tr style=\"text-align: right;\">\n",
       "      <th></th>\n",
       "      <th>status</th>\n",
       "      <th>card_present_flag</th>\n",
       "      <th>bpay_biller_code</th>\n",
       "      <th>account</th>\n",
       "      <th>currency</th>\n",
       "      <th>long_lat</th>\n",
       "      <th>txn_description</th>\n",
       "      <th>merchant_id</th>\n",
       "      <th>merchant_code</th>\n",
       "      <th>first_name</th>\n",
       "      <th>...</th>\n",
       "      <th>age</th>\n",
       "      <th>merchant_suburb</th>\n",
       "      <th>merchant_state</th>\n",
       "      <th>extraction</th>\n",
       "      <th>amount</th>\n",
       "      <th>transaction_id</th>\n",
       "      <th>country</th>\n",
       "      <th>customer_id</th>\n",
       "      <th>merchant_long_lat</th>\n",
       "      <th>movement</th>\n",
       "    </tr>\n",
       "  </thead>\n",
       "  <tbody>\n",
       "    <tr>\n",
       "      <th>0</th>\n",
       "      <td>authorized</td>\n",
       "      <td>1.0</td>\n",
       "      <td>NaN</td>\n",
       "      <td>ACC-1598451071</td>\n",
       "      <td>AUD</td>\n",
       "      <td>153.41 -27.95</td>\n",
       "      <td>POS</td>\n",
       "      <td>81c48296-73be-44a7-befa-d053f48ce7cd</td>\n",
       "      <td>NaN</td>\n",
       "      <td>Diana</td>\n",
       "      <td>...</td>\n",
       "      <td>26</td>\n",
       "      <td>Ashmore</td>\n",
       "      <td>QLD</td>\n",
       "      <td>2018-08-01T01:01:15.000+0000</td>\n",
       "      <td>16.25</td>\n",
       "      <td>a623070bfead4541a6b0fff8a09e706c</td>\n",
       "      <td>Australia</td>\n",
       "      <td>CUS-2487424745</td>\n",
       "      <td>153.38 -27.99</td>\n",
       "      <td>debit</td>\n",
       "    </tr>\n",
       "    <tr>\n",
       "      <th>1</th>\n",
       "      <td>authorized</td>\n",
       "      <td>0.0</td>\n",
       "      <td>NaN</td>\n",
       "      <td>ACC-1598451071</td>\n",
       "      <td>AUD</td>\n",
       "      <td>153.41 -27.95</td>\n",
       "      <td>SALES-POS</td>\n",
       "      <td>830a451c-316e-4a6a-bf25-e37caedca49e</td>\n",
       "      <td>NaN</td>\n",
       "      <td>Diana</td>\n",
       "      <td>...</td>\n",
       "      <td>26</td>\n",
       "      <td>Sydney</td>\n",
       "      <td>NSW</td>\n",
       "      <td>2018-08-01T01:13:45.000+0000</td>\n",
       "      <td>14.19</td>\n",
       "      <td>13270a2a902145da9db4c951e04b51b9</td>\n",
       "      <td>Australia</td>\n",
       "      <td>CUS-2487424745</td>\n",
       "      <td>151.21 -33.87</td>\n",
       "      <td>debit</td>\n",
       "    </tr>\n",
       "    <tr>\n",
       "      <th>2</th>\n",
       "      <td>authorized</td>\n",
       "      <td>1.0</td>\n",
       "      <td>NaN</td>\n",
       "      <td>ACC-1222300524</td>\n",
       "      <td>AUD</td>\n",
       "      <td>151.23 -33.94</td>\n",
       "      <td>POS</td>\n",
       "      <td>835c231d-8cdf-4e96-859d-e9d571760cf0</td>\n",
       "      <td>NaN</td>\n",
       "      <td>Michael</td>\n",
       "      <td>...</td>\n",
       "      <td>38</td>\n",
       "      <td>Sydney</td>\n",
       "      <td>NSW</td>\n",
       "      <td>2018-08-01T01:26:15.000+0000</td>\n",
       "      <td>6.42</td>\n",
       "      <td>feb79e7ecd7048a5a36ec889d1a94270</td>\n",
       "      <td>Australia</td>\n",
       "      <td>CUS-2142601169</td>\n",
       "      <td>151.21 -33.87</td>\n",
       "      <td>debit</td>\n",
       "    </tr>\n",
       "    <tr>\n",
       "      <th>3</th>\n",
       "      <td>authorized</td>\n",
       "      <td>1.0</td>\n",
       "      <td>NaN</td>\n",
       "      <td>ACC-1037050564</td>\n",
       "      <td>AUD</td>\n",
       "      <td>153.10 -27.66</td>\n",
       "      <td>SALES-POS</td>\n",
       "      <td>48514682-c78a-4a88-b0da-2d6302e64673</td>\n",
       "      <td>NaN</td>\n",
       "      <td>Rhonda</td>\n",
       "      <td>...</td>\n",
       "      <td>40</td>\n",
       "      <td>Buderim</td>\n",
       "      <td>QLD</td>\n",
       "      <td>2018-08-01T01:38:45.000+0000</td>\n",
       "      <td>40.90</td>\n",
       "      <td>2698170da3704fd981b15e64a006079e</td>\n",
       "      <td>Australia</td>\n",
       "      <td>CUS-1614226872</td>\n",
       "      <td>153.05 -26.68</td>\n",
       "      <td>debit</td>\n",
       "    </tr>\n",
       "    <tr>\n",
       "      <th>4</th>\n",
       "      <td>authorized</td>\n",
       "      <td>1.0</td>\n",
       "      <td>NaN</td>\n",
       "      <td>ACC-1598451071</td>\n",
       "      <td>AUD</td>\n",
       "      <td>153.41 -27.95</td>\n",
       "      <td>SALES-POS</td>\n",
       "      <td>b4e02c10-0852-4273-b8fd-7b3395e32eb0</td>\n",
       "      <td>NaN</td>\n",
       "      <td>Diana</td>\n",
       "      <td>...</td>\n",
       "      <td>26</td>\n",
       "      <td>Mermaid Beach</td>\n",
       "      <td>QLD</td>\n",
       "      <td>2018-08-01T01:51:15.000+0000</td>\n",
       "      <td>3.25</td>\n",
       "      <td>329adf79878c4cf0aeb4188b4691c266</td>\n",
       "      <td>Australia</td>\n",
       "      <td>CUS-2487424745</td>\n",
       "      <td>153.44 -28.06</td>\n",
       "      <td>debit</td>\n",
       "    </tr>\n",
       "  </tbody>\n",
       "</table>\n",
       "<p>5 rows × 23 columns</p>\n",
       "</div>"
      ],
      "text/plain": [
       "       status  card_present_flag bpay_biller_code         account currency  \\\n",
       "0  authorized                1.0              NaN  ACC-1598451071      AUD   \n",
       "1  authorized                0.0              NaN  ACC-1598451071      AUD   \n",
       "2  authorized                1.0              NaN  ACC-1222300524      AUD   \n",
       "3  authorized                1.0              NaN  ACC-1037050564      AUD   \n",
       "4  authorized                1.0              NaN  ACC-1598451071      AUD   \n",
       "\n",
       "        long_lat txn_description                           merchant_id  \\\n",
       "0  153.41 -27.95             POS  81c48296-73be-44a7-befa-d053f48ce7cd   \n",
       "1  153.41 -27.95       SALES-POS  830a451c-316e-4a6a-bf25-e37caedca49e   \n",
       "2  151.23 -33.94             POS  835c231d-8cdf-4e96-859d-e9d571760cf0   \n",
       "3  153.10 -27.66       SALES-POS  48514682-c78a-4a88-b0da-2d6302e64673   \n",
       "4  153.41 -27.95       SALES-POS  b4e02c10-0852-4273-b8fd-7b3395e32eb0   \n",
       "\n",
       "   merchant_code first_name  ...  age merchant_suburb merchant_state  \\\n",
       "0            NaN      Diana  ...   26         Ashmore            QLD   \n",
       "1            NaN      Diana  ...   26          Sydney            NSW   \n",
       "2            NaN    Michael  ...   38          Sydney            NSW   \n",
       "3            NaN     Rhonda  ...   40         Buderim            QLD   \n",
       "4            NaN      Diana  ...   26   Mermaid Beach            QLD   \n",
       "\n",
       "                     extraction amount                    transaction_id  \\\n",
       "0  2018-08-01T01:01:15.000+0000  16.25  a623070bfead4541a6b0fff8a09e706c   \n",
       "1  2018-08-01T01:13:45.000+0000  14.19  13270a2a902145da9db4c951e04b51b9   \n",
       "2  2018-08-01T01:26:15.000+0000   6.42  feb79e7ecd7048a5a36ec889d1a94270   \n",
       "3  2018-08-01T01:38:45.000+0000  40.90  2698170da3704fd981b15e64a006079e   \n",
       "4  2018-08-01T01:51:15.000+0000   3.25  329adf79878c4cf0aeb4188b4691c266   \n",
       "\n",
       "     country     customer_id merchant_long_lat movement  \n",
       "0  Australia  CUS-2487424745     153.38 -27.99    debit  \n",
       "1  Australia  CUS-2487424745     151.21 -33.87    debit  \n",
       "2  Australia  CUS-2142601169     151.21 -33.87    debit  \n",
       "3  Australia  CUS-1614226872     153.05 -26.68    debit  \n",
       "4  Australia  CUS-2487424745     153.44 -28.06    debit  \n",
       "\n",
       "[5 rows x 23 columns]"
      ]
     },
     "execution_count": 3,
     "metadata": {},
     "output_type": "execute_result"
    }
   ],
   "source": [
    "data.head()"
   ]
  },
  {
   "cell_type": "code",
   "execution_count": 4,
   "id": "united-strip",
   "metadata": {},
   "outputs": [
    {
     "name": "stdout",
     "output_type": "stream",
     "text": [
      "<class 'pandas.core.frame.DataFrame'>\n",
      "RangeIndex: 12043 entries, 0 to 12042\n",
      "Data columns (total 23 columns):\n",
      " #   Column             Non-Null Count  Dtype         \n",
      "---  ------             --------------  -----         \n",
      " 0   status             12043 non-null  object        \n",
      " 1   card_present_flag  7717 non-null   float64       \n",
      " 2   bpay_biller_code   885 non-null    object        \n",
      " 3   account            12043 non-null  object        \n",
      " 4   currency           12043 non-null  object        \n",
      " 5   long_lat           12043 non-null  object        \n",
      " 6   txn_description    12043 non-null  object        \n",
      " 7   merchant_id        7717 non-null   object        \n",
      " 8   merchant_code      883 non-null    float64       \n",
      " 9   first_name         12043 non-null  object        \n",
      " 10  balance            12043 non-null  float64       \n",
      " 11  date               12043 non-null  datetime64[ns]\n",
      " 12  gender             12043 non-null  object        \n",
      " 13  age                12043 non-null  int64         \n",
      " 14  merchant_suburb    7717 non-null   object        \n",
      " 15  merchant_state     7717 non-null   object        \n",
      " 16  extraction         12043 non-null  object        \n",
      " 17  amount             12043 non-null  float64       \n",
      " 18  transaction_id     12043 non-null  object        \n",
      " 19  country            12043 non-null  object        \n",
      " 20  customer_id        12043 non-null  object        \n",
      " 21  merchant_long_lat  7717 non-null   object        \n",
      " 22  movement           12043 non-null  object        \n",
      "dtypes: datetime64[ns](1), float64(4), int64(1), object(17)\n",
      "memory usage: 1.3+ MB\n"
     ]
    }
   ],
   "source": [
    "data.info()"
   ]
  },
  {
   "cell_type": "code",
   "execution_count": 5,
   "id": "manual-mongolia",
   "metadata": {},
   "outputs": [
    {
     "data": {
      "text/html": [
       "<div>\n",
       "<style scoped>\n",
       "    .dataframe tbody tr th:only-of-type {\n",
       "        vertical-align: middle;\n",
       "    }\n",
       "\n",
       "    .dataframe tbody tr th {\n",
       "        vertical-align: top;\n",
       "    }\n",
       "\n",
       "    .dataframe thead th {\n",
       "        text-align: right;\n",
       "    }\n",
       "</style>\n",
       "<table border=\"1\" class=\"dataframe\">\n",
       "  <thead>\n",
       "    <tr style=\"text-align: right;\">\n",
       "      <th></th>\n",
       "      <th>card_present_flag</th>\n",
       "      <th>merchant_code</th>\n",
       "      <th>balance</th>\n",
       "      <th>age</th>\n",
       "      <th>amount</th>\n",
       "    </tr>\n",
       "  </thead>\n",
       "  <tbody>\n",
       "    <tr>\n",
       "      <th>count</th>\n",
       "      <td>7717.000000</td>\n",
       "      <td>883.0</td>\n",
       "      <td>12043.000000</td>\n",
       "      <td>12043.000000</td>\n",
       "      <td>12043.000000</td>\n",
       "    </tr>\n",
       "    <tr>\n",
       "      <th>mean</th>\n",
       "      <td>0.802644</td>\n",
       "      <td>0.0</td>\n",
       "      <td>14704.195553</td>\n",
       "      <td>30.582330</td>\n",
       "      <td>187.933588</td>\n",
       "    </tr>\n",
       "    <tr>\n",
       "      <th>std</th>\n",
       "      <td>0.398029</td>\n",
       "      <td>0.0</td>\n",
       "      <td>31503.722652</td>\n",
       "      <td>10.046343</td>\n",
       "      <td>592.599934</td>\n",
       "    </tr>\n",
       "    <tr>\n",
       "      <th>min</th>\n",
       "      <td>0.000000</td>\n",
       "      <td>0.0</td>\n",
       "      <td>0.240000</td>\n",
       "      <td>18.000000</td>\n",
       "      <td>0.100000</td>\n",
       "    </tr>\n",
       "    <tr>\n",
       "      <th>25%</th>\n",
       "      <td>1.000000</td>\n",
       "      <td>0.0</td>\n",
       "      <td>3158.585000</td>\n",
       "      <td>22.000000</td>\n",
       "      <td>16.000000</td>\n",
       "    </tr>\n",
       "    <tr>\n",
       "      <th>50%</th>\n",
       "      <td>1.000000</td>\n",
       "      <td>0.0</td>\n",
       "      <td>6432.010000</td>\n",
       "      <td>28.000000</td>\n",
       "      <td>29.000000</td>\n",
       "    </tr>\n",
       "    <tr>\n",
       "      <th>75%</th>\n",
       "      <td>1.000000</td>\n",
       "      <td>0.0</td>\n",
       "      <td>12465.945000</td>\n",
       "      <td>38.000000</td>\n",
       "      <td>53.655000</td>\n",
       "    </tr>\n",
       "    <tr>\n",
       "      <th>max</th>\n",
       "      <td>1.000000</td>\n",
       "      <td>0.0</td>\n",
       "      <td>267128.520000</td>\n",
       "      <td>78.000000</td>\n",
       "      <td>8835.980000</td>\n",
       "    </tr>\n",
       "  </tbody>\n",
       "</table>\n",
       "</div>"
      ],
      "text/plain": [
       "       card_present_flag  merchant_code        balance           age  \\\n",
       "count        7717.000000          883.0   12043.000000  12043.000000   \n",
       "mean            0.802644            0.0   14704.195553     30.582330   \n",
       "std             0.398029            0.0   31503.722652     10.046343   \n",
       "min             0.000000            0.0       0.240000     18.000000   \n",
       "25%             1.000000            0.0    3158.585000     22.000000   \n",
       "50%             1.000000            0.0    6432.010000     28.000000   \n",
       "75%             1.000000            0.0   12465.945000     38.000000   \n",
       "max             1.000000            0.0  267128.520000     78.000000   \n",
       "\n",
       "             amount  \n",
       "count  12043.000000  \n",
       "mean     187.933588  \n",
       "std      592.599934  \n",
       "min        0.100000  \n",
       "25%       16.000000  \n",
       "50%       29.000000  \n",
       "75%       53.655000  \n",
       "max     8835.980000  "
      ]
     },
     "execution_count": 5,
     "metadata": {},
     "output_type": "execute_result"
    }
   ],
   "source": [
    "data.describe()"
   ]
  },
  {
   "cell_type": "code",
   "execution_count": 6,
   "id": "intense-suspension",
   "metadata": {},
   "outputs": [
    {
     "data": {
      "text/plain": [
       "Index(['status', 'card_present_flag', 'bpay_biller_code', 'account',\n",
       "       'currency', 'long_lat', 'txn_description', 'merchant_id',\n",
       "       'merchant_code', 'first_name', 'balance', 'date', 'gender', 'age',\n",
       "       'merchant_suburb', 'merchant_state', 'extraction', 'amount',\n",
       "       'transaction_id', 'country', 'customer_id', 'merchant_long_lat',\n",
       "       'movement'],\n",
       "      dtype='object')"
      ]
     },
     "execution_count": 6,
     "metadata": {},
     "output_type": "execute_result"
    }
   ],
   "source": [
    "data.columns"
   ]
  },
  {
   "cell_type": "code",
   "execution_count": 7,
   "id": "speaking-makeup",
   "metadata": {},
   "outputs": [
    {
     "data": {
      "text/plain": [
       "status                   2\n",
       "card_present_flag        2\n",
       "bpay_biller_code         3\n",
       "account                100\n",
       "currency                 1\n",
       "long_lat               100\n",
       "txn_description          6\n",
       "merchant_id           5725\n",
       "merchant_code            1\n",
       "first_name              80\n",
       "balance              12006\n",
       "date                    91\n",
       "gender                   2\n",
       "age                     33\n",
       "merchant_suburb       1609\n",
       "merchant_state           8\n",
       "extraction            9442\n",
       "amount                4457\n",
       "transaction_id       12043\n",
       "country                  1\n",
       "customer_id            100\n",
       "merchant_long_lat     2703\n",
       "movement                 2\n",
       "dtype: int64"
      ]
     },
     "execution_count": 7,
     "metadata": {},
     "output_type": "execute_result"
    }
   ],
   "source": [
    "data.nunique()"
   ]
  },
  {
   "cell_type": "code",
   "execution_count": 8,
   "id": "executive-sperm",
   "metadata": {},
   "outputs": [],
   "source": [
    "cat_feat_1=['status','card_present_flag','bpay_biller_code','txn_description','gender','merchant_state','movement','country']"
   ]
  },
  {
   "cell_type": "code",
   "execution_count": 9,
   "id": "handled-spanking",
   "metadata": {},
   "outputs": [
    {
     "name": "stdout",
     "output_type": "stream",
     "text": [
      "authorized    7717\n",
      "posted        4326\n",
      "Name: status, dtype: int64\n",
      "1.0    6194\n",
      "0.0    1523\n",
      "Name: card_present_flag, dtype: int64\n",
      "0                                        883\n",
      " LAND WATER & PLANNING East Melbourne      1\n",
      " THE DISCOUNT CHEMIST GROUP                1\n",
      "Name: bpay_biller_code, dtype: int64\n",
      "SALES-POS     3934\n",
      "POS           3783\n",
      "PAYMENT       2600\n",
      "PAY/SALARY     883\n",
      "INTER BANK     742\n",
      "PHONE BANK     101\n",
      "Name: txn_description, dtype: int64\n",
      "M    6285\n",
      "F    5758\n",
      "Name: gender, dtype: int64\n",
      "NSW    2169\n",
      "VIC    2131\n",
      "QLD    1556\n",
      "WA     1100\n",
      "SA      415\n",
      "NT      205\n",
      "ACT      73\n",
      "TAS      68\n",
      "Name: merchant_state, dtype: int64\n",
      "debit     11160\n",
      "credit      883\n",
      "Name: movement, dtype: int64\n",
      "Australia    12043\n",
      "Name: country, dtype: int64\n"
     ]
    }
   ],
   "source": [
    "for i in cat_feat_1:\n",
    "    print(data[i].value_counts())"
   ]
  },
  {
   "cell_type": "markdown",
   "id": "crucial-charlotte",
   "metadata": {},
   "source": [
    "## EXPLOATORY DATA ANALYSIS 1"
   ]
  },
  {
   "cell_type": "markdown",
   "id": "forty-lodging",
   "metadata": {},
   "source": [
    "We would be comparing the following features for our exploratory study:\n",
    "1). Gender\n",
    "2). Age\n",
    "3). txn_description\n",
    "4). card_present_flag\n",
    "5). account\n",
    "6). balance\n",
    "7). date\n",
    "8). merchant_state\n",
    "9). movement"
   ]
  },
  {
   "cell_type": "code",
   "execution_count": 10,
   "id": "sporting-neighborhood",
   "metadata": {},
   "outputs": [
    {
     "data": {
      "text/plain": [
       "Text(0.5, 0, 'Gender')"
      ]
     },
     "execution_count": 10,
     "metadata": {},
     "output_type": "execute_result"
    },
    {
     "data": {
      "image/png": "[encoded data removed]",
      "text/plain": [
       "<Figure size 432x288 with 1 Axes>"
      ]
     },
     "metadata": {
      "needs_background": "light"
     },
     "output_type": "display_data"
    }
   ],
   "source": [
    "sns.countplot(x='gender',data=data)\n",
    "plt.title('Gender Distribution')\n",
    "plt.xlabel('Gender')"
   ]
  },
  {
   "cell_type": "markdown",
   "id": "moved-firewall",
   "metadata": {},
   "source": [
    "There are slightly more men than women in this dataset with men occupying approximately 52% of the dataset and women 48%"
   ]
  },
  {
   "cell_type": "code",
   "execution_count": 11,
   "id": "federal-attempt",
   "metadata": {},
   "outputs": [
    {
     "data": {
      "text/plain": [
       "Text(0.5, 0, 'Age')"
      ]
     },
     "execution_count": 11,
     "metadata": {},
     "output_type": "execute_result"
    },
    {
     "data": {
      "image/png": "[encoded data removed]",
      "text/plain": [
       "<Figure size 432x288 with 1 Axes>"
      ]
     },
     "metadata": {
      "needs_background": "light"
     },
     "output_type": "display_data"
    }
   ],
   "source": [
    "data.hist('age',bins=35)\n",
    "plt.title('Age Distribution')\n",
    "plt.xlabel('Age')"
   ]
  },
  {
   "cell_type": "markdown",
   "id": "regulated-throw",
   "metadata": {},
   "source": [
    "The ages are mostly between 20 to 35 which coincides with the value our describe attributes that gives us a mean of 30.58. There are lesser older customers and this could result from the technicality of the banking system which could require at least an intermediate understanding of modern banking operations, hence the reason why youths are the major customers."
   ]
  },
  {
   "cell_type": "code",
   "execution_count": 12,
   "id": "adult-conspiracy",
   "metadata": {},
   "outputs": [
    {
     "data": {
      "text/plain": [
       "<matplotlib.legend.Legend at 0xdb282a30>"
      ]
     },
     "execution_count": 12,
     "metadata": {},
     "output_type": "execute_result"
    },
    {
     "data": {
      "image/png": "[encoded data removed]",
      "text/plain": [
       "<Figure size 432x288 with 1 Axes>"
      ]
     },
     "metadata": {
      "needs_background": "light"
     },
     "output_type": "display_data"
    }
   ],
   "source": [
    "plt.hist('age',data=data[data['gender']=='M'],alpha=0.5,label='Male')\n",
    "plt.hist('age',data=data[data['gender']=='F'],alpha=0.5,label='Female')\n",
    "plt.title('Distribution Of Age By Gender')\n",
    "plt.xlabel('Age')\n",
    "plt.legend(loc=0)"
   ]
  },
  {
   "cell_type": "markdown",
   "id": "dominant-costa",
   "metadata": {},
   "source": [
    "There are more younger men than there are younger women who are customers at ANZ and also we have more middle age men than women in the dataset and then an even ratio of the elderly's.\n",
    "Lets also see the state where most of these customers come from in Australia."
   ]
  },
  {
   "cell_type": "markdown",
   "id": "sporting-cycling",
   "metadata": {},
   "source": [
    "Before proceeding lets examine the merchant state distribution"
   ]
  },
  {
   "cell_type": "code",
   "execution_count": 13,
   "id": "confused-behavior",
   "metadata": {},
   "outputs": [
    {
     "data": {
      "text/plain": [
       "<matplotlib.axes._subplots.AxesSubplot at 0xdb2d3940>"
      ]
     },
     "execution_count": 13,
     "metadata": {},
     "output_type": "execute_result"
    },
    {
     "data": {
      "image/png": "[encoded data removed]",
      "text/plain": [
       "<Figure size 432x288 with 1 Axes>"
      ]
     },
     "metadata": {
      "needs_background": "light"
     },
     "output_type": "display_data"
    }
   ],
   "source": [
    "sns.countplot(x='merchant_state',data=data)"
   ]
  },
  {
   "cell_type": "markdown",
   "id": "finite-dominican",
   "metadata": {},
   "source": [
    "QLD --> Queensland\n",
    "NSW--> New South Wales\n",
    "SA--> South Australia\n",
    "TAS--> Tasmania\n",
    "VIC--> Victoria\n",
    "WA--> Western Australia\n",
    "NT--> Northern Territory\n",
    "ACT--> Australia Capital Territory"
   ]
  },
  {
   "cell_type": "markdown",
   "id": "floral-transsexual",
   "metadata": {},
   "source": [
    "The majority of the customers come from the New South Wales and Victoria , followed by the Queensland and Western Autralia."
   ]
  },
  {
   "cell_type": "code",
   "execution_count": 14,
   "id": "identified-attack",
   "metadata": {},
   "outputs": [
    {
     "data": {
      "text/plain": [
       "<matplotlib.axes._subplots.AxesSubplot at 0xdb2e2508>"
      ]
     },
     "execution_count": 14,
     "metadata": {},
     "output_type": "execute_result"
    },
    {
     "data": {
      "image/png": "[encoded data removed]",
      "text/plain": [
       "<Figure size 432x288 with 1 Axes>"
      ]
     },
     "metadata": {
      "needs_background": "light"
     },
     "output_type": "display_data"
    }
   ],
   "source": [
    "sns.countplot(x='merchant_state',hue='gender',data=data)"
   ]
  },
  {
   "cell_type": "code",
   "execution_count": 15,
   "id": "solved-authorization",
   "metadata": {
    "scrolled": true
   },
   "outputs": [
    {
     "data": {
      "text/plain": [
       "<matplotlib.axes._subplots.AxesSubplot at 0xdb1ed8e0>"
      ]
     },
     "execution_count": 15,
     "metadata": {},
     "output_type": "execute_result"
    },
    {
     "data": {
      "image/png": "[encoded data removed]",
      "text/plain": [
       "<Figure size 432x288 with 1 Axes>"
      ]
     },
     "metadata": {
      "needs_background": "light"
     },
     "output_type": "display_data"
    }
   ],
   "source": [
    "sns.countplot(x='gender',hue='merchant_state',data=data)"
   ]
  },
  {
   "cell_type": "markdown",
   "id": "chicken-privacy",
   "metadata": {},
   "source": [
    "The bar charts above shows that the reason we have high customers from the NSW and VIC regions is because these areas are densely populated by people compared to the other states."
   ]
  },
  {
   "cell_type": "code",
   "execution_count": 16,
   "id": "innovative-attendance",
   "metadata": {},
   "outputs": [
    {
     "data": {
      "text/plain": [
       "array([[<matplotlib.axes._subplots.AxesSubplot object at 0xdb1c7598>]],\n",
       "      dtype=object)"
      ]
     },
     "execution_count": 16,
     "metadata": {},
     "output_type": "execute_result"
    },
    {
     "data": {
      "image/png": "[encoded data removed]",
      "text/plain": [
       "<Figure size 432x288 with 1 Axes>"
      ]
     },
     "metadata": {
      "needs_background": "light"
     },
     "output_type": "display_data"
    }
   ],
   "source": [
    "data.hist('amount',bins=35)"
   ]
  },
  {
   "cell_type": "code",
   "execution_count": 17,
   "id": "excess-professional",
   "metadata": {},
   "outputs": [
    {
     "data": {
      "text/plain": [
       "array([[<matplotlib.axes._subplots.AxesSubplot object at 0xdb183100>]],\n",
       "      dtype=object)"
      ]
     },
     "execution_count": 17,
     "metadata": {},
     "output_type": "execute_result"
    },
    {
     "data": {
      "image/png": "[encoded data removed]",
      "text/plain": [
       "<Figure size 432x288 with 1 Axes>"
      ]
     },
     "metadata": {
      "needs_background": "light"
     },
     "output_type": "display_data"
    }
   ],
   "source": [
    "data.hist('balance',bins=35)"
   ]
  },
  {
   "cell_type": "code",
   "execution_count": 18,
   "id": "treated-croatia",
   "metadata": {},
   "outputs": [
    {
     "data": {
      "text/plain": [
       "<matplotlib.legend.Legend at 0xdb20d5c8>"
      ]
     },
     "execution_count": 18,
     "metadata": {},
     "output_type": "execute_result"
    },
    {
     "data": {
      "image/png": "[encoded data removed]",
      "text/plain": [
       "<Figure size 432x288 with 1 Axes>"
      ]
     },
     "metadata": {
      "needs_background": "light"
     },
     "output_type": "display_data"
    }
   ],
   "source": [
    "plt.hist('amount',data=data[data['gender']=='M'],alpha=0.4,label='Male')\n",
    "plt.hist('amount',data=data[data['gender']=='F'],alpha=0.5,label='Female')\n",
    "\n",
    "plt.title('Amount Distribution By Gender')\n",
    "plt.xlabel('Amount')\n",
    "plt.legend(loc=0)"
   ]
  },
  {
   "cell_type": "markdown",
   "id": "complicated-drama",
   "metadata": {},
   "source": [
    "The majority of the amount came from men more than female"
   ]
  },
  {
   "cell_type": "code",
   "execution_count": 19,
   "id": "initial-portfolio",
   "metadata": {},
   "outputs": [
    {
     "data": {
      "image/png": "[encoded data removed]",
      "text/plain": [
       "<Figure size 432x288 with 1 Axes>"
      ]
     },
     "metadata": {
      "needs_background": "light"
     },
     "output_type": "display_data"
    }
   ],
   "source": [
    "for item in data['merchant_state'].unique():\n",
    "    plt.hist('amount',data=data[data['merchant_state']==item],alpha=0.5,label=item)\n",
    "    plt.title('Amount Distribution By Merchant State')\n",
    "    plt.xlabel('Amount')\n",
    "    plt.legend(loc=0)"
   ]
  },
  {
   "cell_type": "markdown",
   "id": "valid-residence",
   "metadata": {},
   "source": [
    "For the very reason that we have more people in the NSW and VIC the volume of the amount recorded in the dataset these state have the highest amount and balance transactions"
   ]
  },
  {
   "cell_type": "code",
   "execution_count": 20,
   "id": "handmade-julian",
   "metadata": {
    "scrolled": false
   },
   "outputs": [
    {
     "data": {
      "text/plain": [
       "<matplotlib.axes._subplots.AxesSubplot at 0xd9591b80>"
      ]
     },
     "execution_count": 20,
     "metadata": {},
     "output_type": "execute_result"
    },
    {
     "data": {
      "image/png": "[encoded data removed]",
      "text/plain": [
       "<Figure size 432x288 with 1 Axes>"
      ]
     },
     "metadata": {
      "needs_background": "light"
     },
     "output_type": "display_data"
    }
   ],
   "source": [
    "sns.countplot(x='status',hue='txn_description',data=data)"
   ]
  },
  {
   "cell_type": "markdown",
   "id": "aquatic-extension",
   "metadata": {},
   "source": [
    "From this bar chart we can see a very useful information here that most of the authorized transactions are from POS and SALES-POS transactions while the others , i.e the payment, inter bank, pay/salary, and phone bank transactions are posted."
   ]
  },
  {
   "cell_type": "code",
   "execution_count": 21,
   "id": "incorporated-soviet",
   "metadata": {},
   "outputs": [
    {
     "data": {
      "text/plain": [
       "<matplotlib.axes._subplots.AxesSubplot at 0xd94c92f8>"
      ]
     },
     "execution_count": 21,
     "metadata": {},
     "output_type": "execute_result"
    },
    {
     "data": {
      "image/png": "[encoded data removed]",
      "text/plain": [
       "<Figure size 432x288 with 1 Axes>"
      ]
     },
     "metadata": {
      "needs_background": "light"
     },
     "output_type": "display_data"
    }
   ],
   "source": [
    "sns.countplot(x='status',hue='movement',data=data)"
   ]
  },
  {
   "cell_type": "code",
   "execution_count": 22,
   "id": "imported-dynamics",
   "metadata": {},
   "outputs": [
    {
     "data": {
      "text/plain": [
       "debit     11160\n",
       "credit      883\n",
       "Name: movement, dtype: int64"
      ]
     },
     "execution_count": 22,
     "metadata": {},
     "output_type": "execute_result"
    }
   ],
   "source": [
    "data.movement.value_counts()"
   ]
  },
  {
   "cell_type": "markdown",
   "id": "satisfactory-geneva",
   "metadata": {},
   "source": [
    "Comparing the result in these dataframe and the chart before it we can clearly see that the only credit transaction is the payment/salary and all of the transactions under it have all been authorized."
   ]
  },
  {
   "cell_type": "code",
   "execution_count": 23,
   "id": "musical-ghost",
   "metadata": {},
   "outputs": [
    {
     "data": {
      "text/plain": [
       "<matplotlib.axes._subplots.AxesSubplot at 0xdb2a7538>"
      ]
     },
     "execution_count": 23,
     "metadata": {},
     "output_type": "execute_result"
    },
    {
     "data": {
      "image/png": "[encoded data removed]",
      "text/plain": [
       "<Figure size 432x288 with 1 Axes>"
      ]
     },
     "metadata": {
      "needs_background": "light"
     },
     "output_type": "display_data"
    }
   ],
   "source": [
    "sns.countplot(x='gender',hue='card_present_flag',data=data)"
   ]
  },
  {
   "cell_type": "code",
   "execution_count": 24,
   "id": "other-tiger",
   "metadata": {},
   "outputs": [
    {
     "data": {
      "text/plain": [
       "<matplotlib.legend.Legend at 0xd9252700>"
      ]
     },
     "execution_count": 24,
     "metadata": {},
     "output_type": "execute_result"
    },
    {
     "data": {
      "image/png": "[encoded data removed]",
      "text/plain": [
       "<Figure size 432x288 with 1 Axes>"
      ]
     },
     "metadata": {
      "needs_background": "light"
     },
     "output_type": "display_data"
    }
   ],
   "source": [
    "plt.hist('age',data=data[data['card_present_flag']==0],alpha=0.5,label='Not Awarded')\n",
    "plt.hist('age',data=data[data['card_present_flag']==1],alpha=0.5,label='Awarded')\n",
    "plt.title('Age Distribution By Card Present Flag')\n",
    "plt.xlabel('Age')\n",
    "plt.legend(loc=0)"
   ]
  },
  {
   "cell_type": "code",
   "execution_count": 25,
   "id": "devoted-european",
   "metadata": {},
   "outputs": [
    {
     "data": {
      "text/plain": [
       "187.93358797641784"
      ]
     },
     "execution_count": 25,
     "metadata": {},
     "output_type": "execute_result"
    }
   ],
   "source": [
    "data.amount.mean()"
   ]
  },
  {
   "cell_type": "code",
   "execution_count": 26,
   "id": "engaging-recorder",
   "metadata": {},
   "outputs": [
    {
     "data": {
      "text/plain": [
       "<matplotlib.legend.Legend at 0xd921db68>"
      ]
     },
     "execution_count": 26,
     "metadata": {},
     "output_type": "execute_result"
    },
    {
     "data": {
      "image/png": "[encoded data removed]",
      "text/plain": [
       "<Figure size 432x288 with 1 Axes>"
      ]
     },
     "metadata": {
      "needs_background": "light"
     },
     "output_type": "display_data"
    }
   ],
   "source": [
    "plt.hist('age',data=data[data['amount']<50],alpha=0.5,label='Low Transaction Account Amount',color='black')\n",
    "plt.hist('age',data=data[(data['amount']>=50) & (data['amount']<100)],alpha=0.5,label='Average Transaction Account Amount',color='red')\n",
    "plt.hist('age',data=data[data['amount']>100],alpha=0.5,label='High Transaction Account Amount',color='green')\n",
    "plt.title('Age Distribution By Amount')\n",
    "plt.xlabel('Age')\n",
    "plt.legend(loc=0)"
   ]
  },
  {
   "cell_type": "code",
   "execution_count": 27,
   "id": "established-sailing",
   "metadata": {},
   "outputs": [
    {
     "data": {
      "text/plain": [
       "14704.195553433528"
      ]
     },
     "execution_count": 27,
     "metadata": {},
     "output_type": "execute_result"
    }
   ],
   "source": [
    "data.balance.mean()"
   ]
  },
  {
   "cell_type": "code",
   "execution_count": 28,
   "id": "bridal-screening",
   "metadata": {},
   "outputs": [
    {
     "data": {
      "text/plain": [
       "<matplotlib.legend.Legend at 0xdb19c940>"
      ]
     },
     "execution_count": 28,
     "metadata": {},
     "output_type": "execute_result"
    },
    {
     "data": {
      "image/png": "[encoded data removed]",
      "text/plain": [
       "<Figure size 432x288 with 1 Axes>"
      ]
     },
     "metadata": {
      "needs_background": "light"
     },
     "output_type": "display_data"
    }
   ],
   "source": [
    "plt.hist('age',data=data[data['balance']<3000],alpha=0.5,label='Economical Account',color='blue')\n",
    "plt.hist('age',data=data[(data['balance']>=3000) & (data['balance']<9000)],alpha=0.5,label='2nd Class Account',color='green')\n",
    "plt.hist('age',data=data[data['balance']>10000],alpha=0.5,label='1st Class Account',color='black')\n",
    "plt.title('Age Distribution By Balance')\n",
    "plt.xlabel('Age')\n",
    "plt.legend(loc=0)"
   ]
  },
  {
   "cell_type": "markdown",
   "id": "perceived-devil",
   "metadata": {},
   "source": [
    "Most of the customers under the age bracket from 20-30 are running a 2nd class account with average account balances, while those in between the age of 35-40 run a 1st class account retaining huge account balances."
   ]
  },
  {
   "cell_type": "markdown",
   "id": "small-ghana",
   "metadata": {},
   "source": [
    "Most of the people under the average age running the economical class account were given the card present "
   ]
  },
  {
   "cell_type": "markdown",
   "id": "olive-reputation",
   "metadata": {},
   "source": [
    "# EXPLORATORY DATA ANALYSIS 2"
   ]
  },
  {
   "cell_type": "markdown",
   "id": "floating-vietnam",
   "metadata": {},
   "source": [
    "We would be considering: "
   ]
  },
  {
   "cell_type": "markdown",
   "id": "forbidden-charity",
   "metadata": {},
   "source": [
    "1). Number of transaction each day"
   ]
  },
  {
   "cell_type": "markdown",
   "id": "casual-opinion",
   "metadata": {},
   "source": [
    "2). Total number of transactions made by each customer"
   ]
  },
  {
   "cell_type": "markdown",
   "id": "introductory-quick",
   "metadata": {},
   "source": [
    "3). Transaction volume each day\n"
   ]
  },
  {
   "cell_type": "markdown",
   "id": "explicit-birth",
   "metadata": {},
   "source": [
    "4). Mean transaction amount each day"
   ]
  },
  {
   "cell_type": "markdown",
   "id": "minor-bunch",
   "metadata": {},
   "source": [
    "5). Features Correlation"
   ]
  },
  {
   "cell_type": "markdown",
   "id": "affecting-mechanism",
   "metadata": {},
   "source": [
    "# Number Of Transactions Each Day"
   ]
  },
  {
   "cell_type": "code",
   "execution_count": 29,
   "id": "unsigned-stability",
   "metadata": {},
   "outputs": [
    {
     "data": {
      "text/plain": [
       "2018-09-28    174\n",
       "2018-08-17    172\n",
       "2018-10-05    168\n",
       "2018-10-17    162\n",
       "2018-09-14    161\n",
       "             ... \n",
       "2018-08-06     99\n",
       "2018-08-20     97\n",
       "2018-10-23     96\n",
       "2018-10-08     95\n",
       "2018-10-30     89\n",
       "Name: date, Length: 91, dtype: int64"
      ]
     },
     "execution_count": 29,
     "metadata": {},
     "output_type": "execute_result"
    }
   ],
   "source": [
    "data['date'].value_counts()"
   ]
  },
  {
   "cell_type": "code",
   "execution_count": 30,
   "id": "helpful-jordan",
   "metadata": {},
   "outputs": [
    {
     "data": {
      "text/plain": [
       "132.34065934065933"
      ]
     },
     "execution_count": 30,
     "metadata": {},
     "output_type": "execute_result"
    }
   ],
   "source": [
    "data['date'].value_counts().mean()"
   ]
  },
  {
   "cell_type": "markdown",
   "id": "animated-imperial",
   "metadata": {},
   "source": [
    "The mean number of transaction each day is 132"
   ]
  },
  {
   "cell_type": "markdown",
   "id": "existing-poultry",
   "metadata": {},
   "source": [
    "# Number Of Transactions Made By Each Customer"
   ]
  },
  {
   "cell_type": "code",
   "execution_count": 31,
   "id": "final-grill",
   "metadata": {},
   "outputs": [
    {
     "data": {
      "text/plain": [
       "CUS-2487424745    578\n",
       "CUS-2142601169    303\n",
       "CUS-3026014945    292\n",
       "CUS-3378712515    260\n",
       "CUS-1614226872    259\n",
       "                 ... \n",
       "CUS-3395687666     40\n",
       "CUS-3201519139     37\n",
       "CUS-1646183815     34\n",
       "CUS-495599312      31\n",
       "CUS-1739931018     25\n",
       "Name: customer_id, Length: 100, dtype: int64"
      ]
     },
     "execution_count": 31,
     "metadata": {},
     "output_type": "execute_result"
    }
   ],
   "source": [
    "data['customer_id'].value_counts()"
   ]
  },
  {
   "cell_type": "code",
   "execution_count": 32,
   "id": "exclusive-memphis",
   "metadata": {},
   "outputs": [
    {
     "data": {
      "text/plain": [
       "120.43"
      ]
     },
     "execution_count": 32,
     "metadata": {},
     "output_type": "execute_result"
    }
   ],
   "source": [
    "data['customer_id'].value_counts().mean()"
   ]
  },
  {
   "cell_type": "markdown",
   "id": "signal-empire",
   "metadata": {},
   "source": [
    "The average number of transactions made by a customer is  approximately 120"
   ]
  },
  {
   "cell_type": "code",
   "execution_count": 47,
   "id": "czech-taxation",
   "metadata": {},
   "outputs": [
    {
     "data": {
      "text/plain": [
       "187.93358797641784"
      ]
     },
     "execution_count": 47,
     "metadata": {},
     "output_type": "execute_result"
    }
   ],
   "source": [
    "data['amount'].mean()"
   ]
  },
  {
   "cell_type": "code",
   "execution_count": 48,
   "id": "incoming-bankruptcy",
   "metadata": {},
   "outputs": [
    {
     "data": {
      "text/plain": [
       "14704.195553433528"
      ]
     },
     "execution_count": 48,
     "metadata": {},
     "output_type": "execute_result"
    }
   ],
   "source": [
    "data['balance'].mean()"
   ]
  },
  {
   "cell_type": "code",
   "execution_count": 54,
   "id": "talented-atmosphere",
   "metadata": {},
   "outputs": [
    {
     "data": {
      "text/plain": [
       "14715.591152733332"
      ]
     },
     "execution_count": 54,
     "metadata": {},
     "output_type": "execute_result"
    }
   ],
   "source": [
    "data.groupby('date')['balance'].mean().mean()"
   ]
  },
  {
   "cell_type": "markdown",
   "id": "foreign-gentleman",
   "metadata": {},
   "source": [
    "Average recorded balance per day is $14716"
   ]
  },
  {
   "cell_type": "code",
   "execution_count": 55,
   "id": "thousand-dictionary",
   "metadata": {},
   "outputs": [
    {
     "data": {
      "text/plain": [
       "190.61056774083966"
      ]
     },
     "execution_count": 55,
     "metadata": {},
     "output_type": "execute_result"
    }
   ],
   "source": [
    "data.groupby('date')['amount'].mean().mean()"
   ]
  },
  {
   "cell_type": "markdown",
   "id": "phantom-disney",
   "metadata": {},
   "source": [
    "Average recorded amount transacted per day is $191"
   ]
  },
  {
   "cell_type": "markdown",
   "id": "challenging-asset",
   "metadata": {},
   "source": [
    "## Transaction Volume Per Day"
   ]
  },
  {
   "cell_type": "code",
   "execution_count": 33,
   "id": "alpine-setup",
   "metadata": {
    "scrolled": true
   },
   "outputs": [
    {
     "data": {
      "text/html": [
       "<div>\n",
       "<style scoped>\n",
       "    .dataframe tbody tr th:only-of-type {\n",
       "        vertical-align: middle;\n",
       "    }\n",
       "\n",
       "    .dataframe tbody tr th {\n",
       "        vertical-align: top;\n",
       "    }\n",
       "\n",
       "    .dataframe thead th {\n",
       "        text-align: right;\n",
       "    }\n",
       "</style>\n",
       "<table border=\"1\" class=\"dataframe\">\n",
       "  <thead>\n",
       "    <tr style=\"text-align: right;\">\n",
       "      <th></th>\n",
       "      <th>status</th>\n",
       "      <th>card_present_flag</th>\n",
       "      <th>bpay_biller_code</th>\n",
       "      <th>account</th>\n",
       "      <th>currency</th>\n",
       "      <th>long_lat</th>\n",
       "      <th>txn_description</th>\n",
       "      <th>merchant_id</th>\n",
       "      <th>merchant_code</th>\n",
       "      <th>first_name</th>\n",
       "      <th>...</th>\n",
       "      <th>age</th>\n",
       "      <th>merchant_suburb</th>\n",
       "      <th>merchant_state</th>\n",
       "      <th>extraction</th>\n",
       "      <th>amount</th>\n",
       "      <th>transaction_id</th>\n",
       "      <th>country</th>\n",
       "      <th>customer_id</th>\n",
       "      <th>merchant_long_lat</th>\n",
       "      <th>movement</th>\n",
       "    </tr>\n",
       "  </thead>\n",
       "  <tbody>\n",
       "    <tr>\n",
       "      <th>0</th>\n",
       "      <td>authorized</td>\n",
       "      <td>1.0</td>\n",
       "      <td>NaN</td>\n",
       "      <td>ACC-1598451071</td>\n",
       "      <td>AUD</td>\n",
       "      <td>153.41 -27.95</td>\n",
       "      <td>POS</td>\n",
       "      <td>81c48296-73be-44a7-befa-d053f48ce7cd</td>\n",
       "      <td>NaN</td>\n",
       "      <td>Diana</td>\n",
       "      <td>...</td>\n",
       "      <td>26</td>\n",
       "      <td>Ashmore</td>\n",
       "      <td>QLD</td>\n",
       "      <td>2018-08-01T01:01:15.000+0000</td>\n",
       "      <td>16.25</td>\n",
       "      <td>a623070bfead4541a6b0fff8a09e706c</td>\n",
       "      <td>Australia</td>\n",
       "      <td>CUS-2487424745</td>\n",
       "      <td>153.38 -27.99</td>\n",
       "      <td>debit</td>\n",
       "    </tr>\n",
       "    <tr>\n",
       "      <th>1</th>\n",
       "      <td>authorized</td>\n",
       "      <td>0.0</td>\n",
       "      <td>NaN</td>\n",
       "      <td>ACC-1598451071</td>\n",
       "      <td>AUD</td>\n",
       "      <td>153.41 -27.95</td>\n",
       "      <td>SALES-POS</td>\n",
       "      <td>830a451c-316e-4a6a-bf25-e37caedca49e</td>\n",
       "      <td>NaN</td>\n",
       "      <td>Diana</td>\n",
       "      <td>...</td>\n",
       "      <td>26</td>\n",
       "      <td>Sydney</td>\n",
       "      <td>NSW</td>\n",
       "      <td>2018-08-01T01:13:45.000+0000</td>\n",
       "      <td>14.19</td>\n",
       "      <td>13270a2a902145da9db4c951e04b51b9</td>\n",
       "      <td>Australia</td>\n",
       "      <td>CUS-2487424745</td>\n",
       "      <td>151.21 -33.87</td>\n",
       "      <td>debit</td>\n",
       "    </tr>\n",
       "    <tr>\n",
       "      <th>2</th>\n",
       "      <td>authorized</td>\n",
       "      <td>1.0</td>\n",
       "      <td>NaN</td>\n",
       "      <td>ACC-1222300524</td>\n",
       "      <td>AUD</td>\n",
       "      <td>151.23 -33.94</td>\n",
       "      <td>POS</td>\n",
       "      <td>835c231d-8cdf-4e96-859d-e9d571760cf0</td>\n",
       "      <td>NaN</td>\n",
       "      <td>Michael</td>\n",
       "      <td>...</td>\n",
       "      <td>38</td>\n",
       "      <td>Sydney</td>\n",
       "      <td>NSW</td>\n",
       "      <td>2018-08-01T01:26:15.000+0000</td>\n",
       "      <td>6.42</td>\n",
       "      <td>feb79e7ecd7048a5a36ec889d1a94270</td>\n",
       "      <td>Australia</td>\n",
       "      <td>CUS-2142601169</td>\n",
       "      <td>151.21 -33.87</td>\n",
       "      <td>debit</td>\n",
       "    </tr>\n",
       "    <tr>\n",
       "      <th>3</th>\n",
       "      <td>authorized</td>\n",
       "      <td>1.0</td>\n",
       "      <td>NaN</td>\n",
       "      <td>ACC-1037050564</td>\n",
       "      <td>AUD</td>\n",
       "      <td>153.10 -27.66</td>\n",
       "      <td>SALES-POS</td>\n",
       "      <td>48514682-c78a-4a88-b0da-2d6302e64673</td>\n",
       "      <td>NaN</td>\n",
       "      <td>Rhonda</td>\n",
       "      <td>...</td>\n",
       "      <td>40</td>\n",
       "      <td>Buderim</td>\n",
       "      <td>QLD</td>\n",
       "      <td>2018-08-01T01:38:45.000+0000</td>\n",
       "      <td>40.90</td>\n",
       "      <td>2698170da3704fd981b15e64a006079e</td>\n",
       "      <td>Australia</td>\n",
       "      <td>CUS-1614226872</td>\n",
       "      <td>153.05 -26.68</td>\n",
       "      <td>debit</td>\n",
       "    </tr>\n",
       "    <tr>\n",
       "      <th>4</th>\n",
       "      <td>authorized</td>\n",
       "      <td>1.0</td>\n",
       "      <td>NaN</td>\n",
       "      <td>ACC-1598451071</td>\n",
       "      <td>AUD</td>\n",
       "      <td>153.41 -27.95</td>\n",
       "      <td>SALES-POS</td>\n",
       "      <td>b4e02c10-0852-4273-b8fd-7b3395e32eb0</td>\n",
       "      <td>NaN</td>\n",
       "      <td>Diana</td>\n",
       "      <td>...</td>\n",
       "      <td>26</td>\n",
       "      <td>Mermaid Beach</td>\n",
       "      <td>QLD</td>\n",
       "      <td>2018-08-01T01:51:15.000+0000</td>\n",
       "      <td>3.25</td>\n",
       "      <td>329adf79878c4cf0aeb4188b4691c266</td>\n",
       "      <td>Australia</td>\n",
       "      <td>CUS-2487424745</td>\n",
       "      <td>153.44 -28.06</td>\n",
       "      <td>debit</td>\n",
       "    </tr>\n",
       "  </tbody>\n",
       "</table>\n",
       "<p>5 rows × 23 columns</p>\n",
       "</div>"
      ],
      "text/plain": [
       "       status  card_present_flag bpay_biller_code         account currency  \\\n",
       "0  authorized                1.0              NaN  ACC-1598451071      AUD   \n",
       "1  authorized                0.0              NaN  ACC-1598451071      AUD   \n",
       "2  authorized                1.0              NaN  ACC-1222300524      AUD   \n",
       "3  authorized                1.0              NaN  ACC-1037050564      AUD   \n",
       "4  authorized                1.0              NaN  ACC-1598451071      AUD   \n",
       "\n",
       "        long_lat txn_description                           merchant_id  \\\n",
       "0  153.41 -27.95             POS  81c48296-73be-44a7-befa-d053f48ce7cd   \n",
       "1  153.41 -27.95       SALES-POS  830a451c-316e-4a6a-bf25-e37caedca49e   \n",
       "2  151.23 -33.94             POS  835c231d-8cdf-4e96-859d-e9d571760cf0   \n",
       "3  153.10 -27.66       SALES-POS  48514682-c78a-4a88-b0da-2d6302e64673   \n",
       "4  153.41 -27.95       SALES-POS  b4e02c10-0852-4273-b8fd-7b3395e32eb0   \n",
       "\n",
       "   merchant_code first_name  ...  age merchant_suburb merchant_state  \\\n",
       "0            NaN      Diana  ...   26         Ashmore            QLD   \n",
       "1            NaN      Diana  ...   26          Sydney            NSW   \n",
       "2            NaN    Michael  ...   38          Sydney            NSW   \n",
       "3            NaN     Rhonda  ...   40         Buderim            QLD   \n",
       "4            NaN      Diana  ...   26   Mermaid Beach            QLD   \n",
       "\n",
       "                     extraction amount                    transaction_id  \\\n",
       "0  2018-08-01T01:01:15.000+0000  16.25  a623070bfead4541a6b0fff8a09e706c   \n",
       "1  2018-08-01T01:13:45.000+0000  14.19  13270a2a902145da9db4c951e04b51b9   \n",
       "2  2018-08-01T01:26:15.000+0000   6.42  feb79e7ecd7048a5a36ec889d1a94270   \n",
       "3  2018-08-01T01:38:45.000+0000  40.90  2698170da3704fd981b15e64a006079e   \n",
       "4  2018-08-01T01:51:15.000+0000   3.25  329adf79878c4cf0aeb4188b4691c266   \n",
       "\n",
       "     country     customer_id merchant_long_lat movement  \n",
       "0  Australia  CUS-2487424745     153.38 -27.99    debit  \n",
       "1  Australia  CUS-2487424745     151.21 -33.87    debit  \n",
       "2  Australia  CUS-2142601169     151.21 -33.87    debit  \n",
       "3  Australia  CUS-1614226872     153.05 -26.68    debit  \n",
       "4  Australia  CUS-2487424745     153.44 -28.06    debit  \n",
       "\n",
       "[5 rows x 23 columns]"
      ]
     },
     "execution_count": 33,
     "metadata": {},
     "output_type": "execute_result"
    }
   ],
   "source": [
    "data.head()"
   ]
  },
  {
   "cell_type": "code",
   "execution_count": 34,
   "id": "latter-compensation",
   "metadata": {},
   "outputs": [],
   "source": [
    "data_date_count=data.groupby('date').count()"
   ]
  },
  {
   "cell_type": "code",
   "execution_count": 35,
   "id": "mexican-turkish",
   "metadata": {},
   "outputs": [
    {
     "data": {
      "text/html": [
       "<div>\n",
       "<style scoped>\n",
       "    .dataframe tbody tr th:only-of-type {\n",
       "        vertical-align: middle;\n",
       "    }\n",
       "\n",
       "    .dataframe tbody tr th {\n",
       "        vertical-align: top;\n",
       "    }\n",
       "\n",
       "    .dataframe thead th {\n",
       "        text-align: right;\n",
       "    }\n",
       "</style>\n",
       "<table border=\"1\" class=\"dataframe\">\n",
       "  <thead>\n",
       "    <tr style=\"text-align: right;\">\n",
       "      <th></th>\n",
       "      <th>status</th>\n",
       "      <th>card_present_flag</th>\n",
       "      <th>bpay_biller_code</th>\n",
       "      <th>account</th>\n",
       "      <th>currency</th>\n",
       "      <th>long_lat</th>\n",
       "      <th>txn_description</th>\n",
       "      <th>merchant_id</th>\n",
       "      <th>merchant_code</th>\n",
       "      <th>first_name</th>\n",
       "      <th>...</th>\n",
       "      <th>age</th>\n",
       "      <th>merchant_suburb</th>\n",
       "      <th>merchant_state</th>\n",
       "      <th>extraction</th>\n",
       "      <th>amount</th>\n",
       "      <th>transaction_id</th>\n",
       "      <th>country</th>\n",
       "      <th>customer_id</th>\n",
       "      <th>merchant_long_lat</th>\n",
       "      <th>movement</th>\n",
       "    </tr>\n",
       "    <tr>\n",
       "      <th>date</th>\n",
       "      <th></th>\n",
       "      <th></th>\n",
       "      <th></th>\n",
       "      <th></th>\n",
       "      <th></th>\n",
       "      <th></th>\n",
       "      <th></th>\n",
       "      <th></th>\n",
       "      <th></th>\n",
       "      <th></th>\n",
       "      <th></th>\n",
       "      <th></th>\n",
       "      <th></th>\n",
       "      <th></th>\n",
       "      <th></th>\n",
       "      <th></th>\n",
       "      <th></th>\n",
       "      <th></th>\n",
       "      <th></th>\n",
       "      <th></th>\n",
       "      <th></th>\n",
       "    </tr>\n",
       "  </thead>\n",
       "  <tbody>\n",
       "    <tr>\n",
       "      <th>2018-08-01</th>\n",
       "      <td>137</td>\n",
       "      <td>84</td>\n",
       "      <td>13</td>\n",
       "      <td>137</td>\n",
       "      <td>137</td>\n",
       "      <td>137</td>\n",
       "      <td>137</td>\n",
       "      <td>84</td>\n",
       "      <td>13</td>\n",
       "      <td>137</td>\n",
       "      <td>...</td>\n",
       "      <td>137</td>\n",
       "      <td>84</td>\n",
       "      <td>84</td>\n",
       "      <td>137</td>\n",
       "      <td>137</td>\n",
       "      <td>137</td>\n",
       "      <td>137</td>\n",
       "      <td>137</td>\n",
       "      <td>84</td>\n",
       "      <td>137</td>\n",
       "    </tr>\n",
       "    <tr>\n",
       "      <th>2018-08-02</th>\n",
       "      <td>152</td>\n",
       "      <td>99</td>\n",
       "      <td>10</td>\n",
       "      <td>152</td>\n",
       "      <td>152</td>\n",
       "      <td>152</td>\n",
       "      <td>152</td>\n",
       "      <td>99</td>\n",
       "      <td>10</td>\n",
       "      <td>152</td>\n",
       "      <td>...</td>\n",
       "      <td>152</td>\n",
       "      <td>99</td>\n",
       "      <td>99</td>\n",
       "      <td>152</td>\n",
       "      <td>152</td>\n",
       "      <td>152</td>\n",
       "      <td>152</td>\n",
       "      <td>152</td>\n",
       "      <td>99</td>\n",
       "      <td>152</td>\n",
       "    </tr>\n",
       "    <tr>\n",
       "      <th>2018-08-03</th>\n",
       "      <td>157</td>\n",
       "      <td>99</td>\n",
       "      <td>15</td>\n",
       "      <td>157</td>\n",
       "      <td>157</td>\n",
       "      <td>157</td>\n",
       "      <td>157</td>\n",
       "      <td>99</td>\n",
       "      <td>15</td>\n",
       "      <td>157</td>\n",
       "      <td>...</td>\n",
       "      <td>157</td>\n",
       "      <td>99</td>\n",
       "      <td>99</td>\n",
       "      <td>157</td>\n",
       "      <td>157</td>\n",
       "      <td>157</td>\n",
       "      <td>157</td>\n",
       "      <td>157</td>\n",
       "      <td>99</td>\n",
       "      <td>157</td>\n",
       "    </tr>\n",
       "    <tr>\n",
       "      <th>2018-08-04</th>\n",
       "      <td>118</td>\n",
       "      <td>94</td>\n",
       "      <td>0</td>\n",
       "      <td>118</td>\n",
       "      <td>118</td>\n",
       "      <td>118</td>\n",
       "      <td>118</td>\n",
       "      <td>94</td>\n",
       "      <td>0</td>\n",
       "      <td>118</td>\n",
       "      <td>...</td>\n",
       "      <td>118</td>\n",
       "      <td>94</td>\n",
       "      <td>94</td>\n",
       "      <td>118</td>\n",
       "      <td>118</td>\n",
       "      <td>118</td>\n",
       "      <td>118</td>\n",
       "      <td>118</td>\n",
       "      <td>94</td>\n",
       "      <td>118</td>\n",
       "    </tr>\n",
       "    <tr>\n",
       "      <th>2018-08-05</th>\n",
       "      <td>100</td>\n",
       "      <td>73</td>\n",
       "      <td>0</td>\n",
       "      <td>100</td>\n",
       "      <td>100</td>\n",
       "      <td>100</td>\n",
       "      <td>100</td>\n",
       "      <td>73</td>\n",
       "      <td>0</td>\n",
       "      <td>100</td>\n",
       "      <td>...</td>\n",
       "      <td>100</td>\n",
       "      <td>73</td>\n",
       "      <td>73</td>\n",
       "      <td>100</td>\n",
       "      <td>100</td>\n",
       "      <td>100</td>\n",
       "      <td>100</td>\n",
       "      <td>100</td>\n",
       "      <td>73</td>\n",
       "      <td>100</td>\n",
       "    </tr>\n",
       "    <tr>\n",
       "      <th>...</th>\n",
       "      <td>...</td>\n",
       "      <td>...</td>\n",
       "      <td>...</td>\n",
       "      <td>...</td>\n",
       "      <td>...</td>\n",
       "      <td>...</td>\n",
       "      <td>...</td>\n",
       "      <td>...</td>\n",
       "      <td>...</td>\n",
       "      <td>...</td>\n",
       "      <td>...</td>\n",
       "      <td>...</td>\n",
       "      <td>...</td>\n",
       "      <td>...</td>\n",
       "      <td>...</td>\n",
       "      <td>...</td>\n",
       "      <td>...</td>\n",
       "      <td>...</td>\n",
       "      <td>...</td>\n",
       "      <td>...</td>\n",
       "      <td>...</td>\n",
       "    </tr>\n",
       "    <tr>\n",
       "      <th>2018-10-27</th>\n",
       "      <td>139</td>\n",
       "      <td>101</td>\n",
       "      <td>0</td>\n",
       "      <td>139</td>\n",
       "      <td>139</td>\n",
       "      <td>139</td>\n",
       "      <td>139</td>\n",
       "      <td>101</td>\n",
       "      <td>0</td>\n",
       "      <td>139</td>\n",
       "      <td>...</td>\n",
       "      <td>139</td>\n",
       "      <td>101</td>\n",
       "      <td>101</td>\n",
       "      <td>139</td>\n",
       "      <td>139</td>\n",
       "      <td>139</td>\n",
       "      <td>139</td>\n",
       "      <td>139</td>\n",
       "      <td>101</td>\n",
       "      <td>139</td>\n",
       "    </tr>\n",
       "    <tr>\n",
       "      <th>2018-10-28</th>\n",
       "      <td>143</td>\n",
       "      <td>101</td>\n",
       "      <td>0</td>\n",
       "      <td>143</td>\n",
       "      <td>143</td>\n",
       "      <td>143</td>\n",
       "      <td>143</td>\n",
       "      <td>101</td>\n",
       "      <td>0</td>\n",
       "      <td>143</td>\n",
       "      <td>...</td>\n",
       "      <td>143</td>\n",
       "      <td>101</td>\n",
       "      <td>101</td>\n",
       "      <td>143</td>\n",
       "      <td>143</td>\n",
       "      <td>143</td>\n",
       "      <td>143</td>\n",
       "      <td>143</td>\n",
       "      <td>101</td>\n",
       "      <td>143</td>\n",
       "    </tr>\n",
       "    <tr>\n",
       "      <th>2018-10-29</th>\n",
       "      <td>102</td>\n",
       "      <td>63</td>\n",
       "      <td>16</td>\n",
       "      <td>102</td>\n",
       "      <td>102</td>\n",
       "      <td>102</td>\n",
       "      <td>102</td>\n",
       "      <td>63</td>\n",
       "      <td>16</td>\n",
       "      <td>102</td>\n",
       "      <td>...</td>\n",
       "      <td>102</td>\n",
       "      <td>63</td>\n",
       "      <td>63</td>\n",
       "      <td>102</td>\n",
       "      <td>102</td>\n",
       "      <td>102</td>\n",
       "      <td>102</td>\n",
       "      <td>102</td>\n",
       "      <td>63</td>\n",
       "      <td>102</td>\n",
       "    </tr>\n",
       "    <tr>\n",
       "      <th>2018-10-30</th>\n",
       "      <td>89</td>\n",
       "      <td>50</td>\n",
       "      <td>12</td>\n",
       "      <td>89</td>\n",
       "      <td>89</td>\n",
       "      <td>89</td>\n",
       "      <td>89</td>\n",
       "      <td>50</td>\n",
       "      <td>12</td>\n",
       "      <td>89</td>\n",
       "      <td>...</td>\n",
       "      <td>89</td>\n",
       "      <td>50</td>\n",
       "      <td>50</td>\n",
       "      <td>89</td>\n",
       "      <td>89</td>\n",
       "      <td>89</td>\n",
       "      <td>89</td>\n",
       "      <td>89</td>\n",
       "      <td>50</td>\n",
       "      <td>89</td>\n",
       "    </tr>\n",
       "    <tr>\n",
       "      <th>2018-10-31</th>\n",
       "      <td>141</td>\n",
       "      <td>93</td>\n",
       "      <td>11</td>\n",
       "      <td>141</td>\n",
       "      <td>141</td>\n",
       "      <td>141</td>\n",
       "      <td>141</td>\n",
       "      <td>93</td>\n",
       "      <td>11</td>\n",
       "      <td>141</td>\n",
       "      <td>...</td>\n",
       "      <td>141</td>\n",
       "      <td>93</td>\n",
       "      <td>93</td>\n",
       "      <td>141</td>\n",
       "      <td>141</td>\n",
       "      <td>141</td>\n",
       "      <td>141</td>\n",
       "      <td>141</td>\n",
       "      <td>93</td>\n",
       "      <td>141</td>\n",
       "    </tr>\n",
       "  </tbody>\n",
       "</table>\n",
       "<p>91 rows × 22 columns</p>\n",
       "</div>"
      ],
      "text/plain": [
       "            status  card_present_flag  bpay_biller_code  account  currency  \\\n",
       "date                                                                         \n",
       "2018-08-01     137                 84                13      137       137   \n",
       "2018-08-02     152                 99                10      152       152   \n",
       "2018-08-03     157                 99                15      157       157   \n",
       "2018-08-04     118                 94                 0      118       118   \n",
       "2018-08-05     100                 73                 0      100       100   \n",
       "...            ...                ...               ...      ...       ...   \n",
       "2018-10-27     139                101                 0      139       139   \n",
       "2018-10-28     143                101                 0      143       143   \n",
       "2018-10-29     102                 63                16      102       102   \n",
       "2018-10-30      89                 50                12       89        89   \n",
       "2018-10-31     141                 93                11      141       141   \n",
       "\n",
       "            long_lat  txn_description  merchant_id  merchant_code  first_name  \\\n",
       "date                                                                            \n",
       "2018-08-01       137              137           84             13         137   \n",
       "2018-08-02       152              152           99             10         152   \n",
       "2018-08-03       157              157           99             15         157   \n",
       "2018-08-04       118              118           94              0         118   \n",
       "2018-08-05       100              100           73              0         100   \n",
       "...              ...              ...          ...            ...         ...   \n",
       "2018-10-27       139              139          101              0         139   \n",
       "2018-10-28       143              143          101              0         143   \n",
       "2018-10-29       102              102           63             16         102   \n",
       "2018-10-30        89               89           50             12          89   \n",
       "2018-10-31       141              141           93             11         141   \n",
       "\n",
       "            ...  age  merchant_suburb  merchant_state  extraction  amount  \\\n",
       "date        ...                                                             \n",
       "2018-08-01  ...  137               84              84         137     137   \n",
       "2018-08-02  ...  152               99              99         152     152   \n",
       "2018-08-03  ...  157               99              99         157     157   \n",
       "2018-08-04  ...  118               94              94         118     118   \n",
       "2018-08-05  ...  100               73              73         100     100   \n",
       "...         ...  ...              ...             ...         ...     ...   \n",
       "2018-10-27  ...  139              101             101         139     139   \n",
       "2018-10-28  ...  143              101             101         143     143   \n",
       "2018-10-29  ...  102               63              63         102     102   \n",
       "2018-10-30  ...   89               50              50          89      89   \n",
       "2018-10-31  ...  141               93              93         141     141   \n",
       "\n",
       "            transaction_id  country  customer_id  merchant_long_lat  movement  \n",
       "date                                                                           \n",
       "2018-08-01             137      137          137                 84       137  \n",
       "2018-08-02             152      152          152                 99       152  \n",
       "2018-08-03             157      157          157                 99       157  \n",
       "2018-08-04             118      118          118                 94       118  \n",
       "2018-08-05             100      100          100                 73       100  \n",
       "...                    ...      ...          ...                ...       ...  \n",
       "2018-10-27             139      139          139                101       139  \n",
       "2018-10-28             143      143          143                101       143  \n",
       "2018-10-29             102      102          102                 63       102  \n",
       "2018-10-30              89       89           89                 50        89  \n",
       "2018-10-31             141      141          141                 93       141  \n",
       "\n",
       "[91 rows x 22 columns]"
      ]
     },
     "execution_count": 35,
     "metadata": {},
     "output_type": "execute_result"
    }
   ],
   "source": [
    "data_date_count"
   ]
  },
  {
   "cell_type": "code",
   "execution_count": 36,
   "id": "collect-uzbekistan",
   "metadata": {},
   "outputs": [],
   "source": [
    "cust_trans=data_date_count['customer_id'].mean()\n",
    "n_points=len(data_date_count.index)"
   ]
  },
  {
   "cell_type": "code",
   "execution_count": 37,
   "id": "respiratory-portrait",
   "metadata": {},
   "outputs": [
    {
     "data": {
      "text/plain": [
       "<matplotlib.legend.Legend at 0xd95f63b8>"
      ]
     },
     "execution_count": 37,
     "metadata": {},
     "output_type": "execute_result"
    },
    {
     "data": {
      "image/png": "[encoded data removed]",
      "text/plain": [
       "<Figure size 432x288 with 1 Axes>"
      ]
     },
     "metadata": {
      "needs_background": "light"
     },
     "output_type": "display_data"
    }
   ],
   "source": [
    "plt.plot(data_date_count.index,data_date_count['customer_id'],color='blue',label='Customer ID Data')\n",
    "plt.plot(data_date_count.index,np.linspace(cust_trans,cust_trans,n_points),color='red',label='Mean Transaction Data')\n",
    "plt.title('Customers Transaction Data')\n",
    "plt.xlabel('Date')\n",
    "plt.ylabel('Number Of Customer')\n",
    "plt.legend(loc=0)"
   ]
  },
  {
   "cell_type": "markdown",
   "id": "perfect-demonstration",
   "metadata": {},
   "source": [
    "## Transaction Amount Each Day"
   ]
  },
  {
   "cell_type": "code",
   "execution_count": 38,
   "id": "instrumental-finding",
   "metadata": {},
   "outputs": [
    {
     "data": {
      "text/html": [
       "<div>\n",
       "<style scoped>\n",
       "    .dataframe tbody tr th:only-of-type {\n",
       "        vertical-align: middle;\n",
       "    }\n",
       "\n",
       "    .dataframe tbody tr th {\n",
       "        vertical-align: top;\n",
       "    }\n",
       "\n",
       "    .dataframe thead th {\n",
       "        text-align: right;\n",
       "    }\n",
       "</style>\n",
       "<table border=\"1\" class=\"dataframe\">\n",
       "  <thead>\n",
       "    <tr style=\"text-align: right;\">\n",
       "      <th></th>\n",
       "      <th>card_present_flag</th>\n",
       "      <th>merchant_code</th>\n",
       "      <th>balance</th>\n",
       "      <th>age</th>\n",
       "      <th>amount</th>\n",
       "    </tr>\n",
       "    <tr>\n",
       "      <th>date</th>\n",
       "      <th></th>\n",
       "      <th></th>\n",
       "      <th></th>\n",
       "      <th></th>\n",
       "      <th></th>\n",
       "    </tr>\n",
       "  </thead>\n",
       "  <tbody>\n",
       "    <tr>\n",
       "      <th>2018-08-01</th>\n",
       "      <td>0.750000</td>\n",
       "      <td>0.0</td>\n",
       "      <td>9933.975328</td>\n",
       "      <td>30.233577</td>\n",
       "      <td>218.014161</td>\n",
       "    </tr>\n",
       "    <tr>\n",
       "      <th>2018-08-02</th>\n",
       "      <td>0.858586</td>\n",
       "      <td>0.0</td>\n",
       "      <td>13963.617895</td>\n",
       "      <td>31.493421</td>\n",
       "      <td>143.331053</td>\n",
       "    </tr>\n",
       "    <tr>\n",
       "      <th>2018-08-03</th>\n",
       "      <td>0.797980</td>\n",
       "      <td>0.0</td>\n",
       "      <td>10187.786688</td>\n",
       "      <td>31.751592</td>\n",
       "      <td>242.653376</td>\n",
       "    </tr>\n",
       "    <tr>\n",
       "      <th>2018-08-04</th>\n",
       "      <td>0.787234</td>\n",
       "      <td>NaN</td>\n",
       "      <td>8206.809407</td>\n",
       "      <td>31.033898</td>\n",
       "      <td>53.356356</td>\n",
       "    </tr>\n",
       "    <tr>\n",
       "      <th>2018-08-05</th>\n",
       "      <td>0.739726</td>\n",
       "      <td>NaN</td>\n",
       "      <td>13297.525400</td>\n",
       "      <td>29.910000</td>\n",
       "      <td>44.265000</td>\n",
       "    </tr>\n",
       "    <tr>\n",
       "      <th>...</th>\n",
       "      <td>...</td>\n",
       "      <td>...</td>\n",
       "      <td>...</td>\n",
       "      <td>...</td>\n",
       "      <td>...</td>\n",
       "    </tr>\n",
       "    <tr>\n",
       "      <th>2018-10-27</th>\n",
       "      <td>0.801980</td>\n",
       "      <td>NaN</td>\n",
       "      <td>17025.213741</td>\n",
       "      <td>31.194245</td>\n",
       "      <td>50.155252</td>\n",
       "    </tr>\n",
       "    <tr>\n",
       "      <th>2018-10-28</th>\n",
       "      <td>0.772277</td>\n",
       "      <td>NaN</td>\n",
       "      <td>15298.837483</td>\n",
       "      <td>30.258741</td>\n",
       "      <td>59.007762</td>\n",
       "    </tr>\n",
       "    <tr>\n",
       "      <th>2018-10-29</th>\n",
       "      <td>0.746032</td>\n",
       "      <td>0.0</td>\n",
       "      <td>20863.967843</td>\n",
       "      <td>29.460784</td>\n",
       "      <td>377.932745</td>\n",
       "    </tr>\n",
       "    <tr>\n",
       "      <th>2018-10-30</th>\n",
       "      <td>0.860000</td>\n",
       "      <td>0.0</td>\n",
       "      <td>19006.962022</td>\n",
       "      <td>31.348315</td>\n",
       "      <td>247.891461</td>\n",
       "    </tr>\n",
       "    <tr>\n",
       "      <th>2018-10-31</th>\n",
       "      <td>0.763441</td>\n",
       "      <td>0.0</td>\n",
       "      <td>16791.528014</td>\n",
       "      <td>30.659574</td>\n",
       "      <td>155.795248</td>\n",
       "    </tr>\n",
       "  </tbody>\n",
       "</table>\n",
       "<p>91 rows × 5 columns</p>\n",
       "</div>"
      ],
      "text/plain": [
       "            card_present_flag  merchant_code       balance        age  \\\n",
       "date                                                                    \n",
       "2018-08-01           0.750000            0.0   9933.975328  30.233577   \n",
       "2018-08-02           0.858586            0.0  13963.617895  31.493421   \n",
       "2018-08-03           0.797980            0.0  10187.786688  31.751592   \n",
       "2018-08-04           0.787234            NaN   8206.809407  31.033898   \n",
       "2018-08-05           0.739726            NaN  13297.525400  29.910000   \n",
       "...                       ...            ...           ...        ...   \n",
       "2018-10-27           0.801980            NaN  17025.213741  31.194245   \n",
       "2018-10-28           0.772277            NaN  15298.837483  30.258741   \n",
       "2018-10-29           0.746032            0.0  20863.967843  29.460784   \n",
       "2018-10-30           0.860000            0.0  19006.962022  31.348315   \n",
       "2018-10-31           0.763441            0.0  16791.528014  30.659574   \n",
       "\n",
       "                amount  \n",
       "date                    \n",
       "2018-08-01  218.014161  \n",
       "2018-08-02  143.331053  \n",
       "2018-08-03  242.653376  \n",
       "2018-08-04   53.356356  \n",
       "2018-08-05   44.265000  \n",
       "...                ...  \n",
       "2018-10-27   50.155252  \n",
       "2018-10-28   59.007762  \n",
       "2018-10-29  377.932745  \n",
       "2018-10-30  247.891461  \n",
       "2018-10-31  155.795248  \n",
       "\n",
       "[91 rows x 5 columns]"
      ]
     },
     "execution_count": 38,
     "metadata": {},
     "output_type": "execute_result"
    }
   ],
   "source": [
    "data_date_mean=data.groupby('date').mean()\n",
    "data_date_mean"
   ]
  },
  {
   "cell_type": "code",
   "execution_count": 39,
   "id": "burning-luther",
   "metadata": {},
   "outputs": [],
   "source": [
    "amt_trans=data_date_mean['amount']"
   ]
  },
  {
   "cell_type": "code",
   "execution_count": 40,
   "id": "czech-holder",
   "metadata": {},
   "outputs": [
    {
     "data": {
      "text/plain": [
       "<matplotlib.legend.Legend at 0xd967cdd8>"
      ]
     },
     "execution_count": 40,
     "metadata": {},
     "output_type": "execute_result"
    },
    {
     "data": {
      "image/png": "[encoded data removed]",
      "text/plain": [
       "<Figure size 432x288 with 1 Axes>"
      ]
     },
     "metadata": {
      "needs_background": "light"
     },
     "output_type": "display_data"
    }
   ],
   "source": [
    "plt.plot(data_date_mean.index,amt_trans,color='green',label='Amount Transacted')\n",
    "plt.plot(data_date_mean.index,np.linspace(amt_trans.mean(),amt_trans.mean(),n_points),color='red',label='Mean Amount Data')\n",
    "plt.title('Amount Transaction Data')\n",
    "plt.xlabel('Date')\n",
    "plt.ylabel('Amount')\n",
    "plt.legend(loc=0)"
   ]
  },
  {
   "cell_type": "markdown",
   "id": "living-shame",
   "metadata": {},
   "source": [
    "## Transaction Balance Each Day"
   ]
  },
  {
   "cell_type": "code",
   "execution_count": 41,
   "id": "regular-cedar",
   "metadata": {},
   "outputs": [
    {
     "data": {
      "text/html": [
       "<div>\n",
       "<style scoped>\n",
       "    .dataframe tbody tr th:only-of-type {\n",
       "        vertical-align: middle;\n",
       "    }\n",
       "\n",
       "    .dataframe tbody tr th {\n",
       "        vertical-align: top;\n",
       "    }\n",
       "\n",
       "    .dataframe thead th {\n",
       "        text-align: right;\n",
       "    }\n",
       "</style>\n",
       "<table border=\"1\" class=\"dataframe\">\n",
       "  <thead>\n",
       "    <tr style=\"text-align: right;\">\n",
       "      <th></th>\n",
       "      <th>card_present_flag</th>\n",
       "      <th>merchant_code</th>\n",
       "      <th>balance</th>\n",
       "      <th>age</th>\n",
       "      <th>amount</th>\n",
       "    </tr>\n",
       "    <tr>\n",
       "      <th>date</th>\n",
       "      <th></th>\n",
       "      <th></th>\n",
       "      <th></th>\n",
       "      <th></th>\n",
       "      <th></th>\n",
       "    </tr>\n",
       "  </thead>\n",
       "  <tbody>\n",
       "    <tr>\n",
       "      <th>2018-08-01</th>\n",
       "      <td>0.750000</td>\n",
       "      <td>0.0</td>\n",
       "      <td>9933.975328</td>\n",
       "      <td>30.233577</td>\n",
       "      <td>218.014161</td>\n",
       "    </tr>\n",
       "    <tr>\n",
       "      <th>2018-08-02</th>\n",
       "      <td>0.858586</td>\n",
       "      <td>0.0</td>\n",
       "      <td>13963.617895</td>\n",
       "      <td>31.493421</td>\n",
       "      <td>143.331053</td>\n",
       "    </tr>\n",
       "    <tr>\n",
       "      <th>2018-08-03</th>\n",
       "      <td>0.797980</td>\n",
       "      <td>0.0</td>\n",
       "      <td>10187.786688</td>\n",
       "      <td>31.751592</td>\n",
       "      <td>242.653376</td>\n",
       "    </tr>\n",
       "    <tr>\n",
       "      <th>2018-08-04</th>\n",
       "      <td>0.787234</td>\n",
       "      <td>NaN</td>\n",
       "      <td>8206.809407</td>\n",
       "      <td>31.033898</td>\n",
       "      <td>53.356356</td>\n",
       "    </tr>\n",
       "    <tr>\n",
       "      <th>2018-08-05</th>\n",
       "      <td>0.739726</td>\n",
       "      <td>NaN</td>\n",
       "      <td>13297.525400</td>\n",
       "      <td>29.910000</td>\n",
       "      <td>44.265000</td>\n",
       "    </tr>\n",
       "    <tr>\n",
       "      <th>...</th>\n",
       "      <td>...</td>\n",
       "      <td>...</td>\n",
       "      <td>...</td>\n",
       "      <td>...</td>\n",
       "      <td>...</td>\n",
       "    </tr>\n",
       "    <tr>\n",
       "      <th>2018-10-27</th>\n",
       "      <td>0.801980</td>\n",
       "      <td>NaN</td>\n",
       "      <td>17025.213741</td>\n",
       "      <td>31.194245</td>\n",
       "      <td>50.155252</td>\n",
       "    </tr>\n",
       "    <tr>\n",
       "      <th>2018-10-28</th>\n",
       "      <td>0.772277</td>\n",
       "      <td>NaN</td>\n",
       "      <td>15298.837483</td>\n",
       "      <td>30.258741</td>\n",
       "      <td>59.007762</td>\n",
       "    </tr>\n",
       "    <tr>\n",
       "      <th>2018-10-29</th>\n",
       "      <td>0.746032</td>\n",
       "      <td>0.0</td>\n",
       "      <td>20863.967843</td>\n",
       "      <td>29.460784</td>\n",
       "      <td>377.932745</td>\n",
       "    </tr>\n",
       "    <tr>\n",
       "      <th>2018-10-30</th>\n",
       "      <td>0.860000</td>\n",
       "      <td>0.0</td>\n",
       "      <td>19006.962022</td>\n",
       "      <td>31.348315</td>\n",
       "      <td>247.891461</td>\n",
       "    </tr>\n",
       "    <tr>\n",
       "      <th>2018-10-31</th>\n",
       "      <td>0.763441</td>\n",
       "      <td>0.0</td>\n",
       "      <td>16791.528014</td>\n",
       "      <td>30.659574</td>\n",
       "      <td>155.795248</td>\n",
       "    </tr>\n",
       "  </tbody>\n",
       "</table>\n",
       "<p>91 rows × 5 columns</p>\n",
       "</div>"
      ],
      "text/plain": [
       "            card_present_flag  merchant_code       balance        age  \\\n",
       "date                                                                    \n",
       "2018-08-01           0.750000            0.0   9933.975328  30.233577   \n",
       "2018-08-02           0.858586            0.0  13963.617895  31.493421   \n",
       "2018-08-03           0.797980            0.0  10187.786688  31.751592   \n",
       "2018-08-04           0.787234            NaN   8206.809407  31.033898   \n",
       "2018-08-05           0.739726            NaN  13297.525400  29.910000   \n",
       "...                       ...            ...           ...        ...   \n",
       "2018-10-27           0.801980            NaN  17025.213741  31.194245   \n",
       "2018-10-28           0.772277            NaN  15298.837483  30.258741   \n",
       "2018-10-29           0.746032            0.0  20863.967843  29.460784   \n",
       "2018-10-30           0.860000            0.0  19006.962022  31.348315   \n",
       "2018-10-31           0.763441            0.0  16791.528014  30.659574   \n",
       "\n",
       "                amount  \n",
       "date                    \n",
       "2018-08-01  218.014161  \n",
       "2018-08-02  143.331053  \n",
       "2018-08-03  242.653376  \n",
       "2018-08-04   53.356356  \n",
       "2018-08-05   44.265000  \n",
       "...                ...  \n",
       "2018-10-27   50.155252  \n",
       "2018-10-28   59.007762  \n",
       "2018-10-29  377.932745  \n",
       "2018-10-30  247.891461  \n",
       "2018-10-31  155.795248  \n",
       "\n",
       "[91 rows x 5 columns]"
      ]
     },
     "execution_count": 41,
     "metadata": {},
     "output_type": "execute_result"
    }
   ],
   "source": [
    "data_date_mean=data.groupby('date').mean()\n",
    "data_date_mean"
   ]
  },
  {
   "cell_type": "code",
   "execution_count": 42,
   "id": "sought-wheel",
   "metadata": {},
   "outputs": [],
   "source": [
    "bal_trans=data_date_mean['balance']"
   ]
  },
  {
   "cell_type": "code",
   "execution_count": 43,
   "id": "confident-constitution",
   "metadata": {},
   "outputs": [
    {
     "data": {
      "text/plain": [
       "Text(0, 0.5, 'Balance')"
      ]
     },
     "execution_count": 43,
     "metadata": {},
     "output_type": "execute_result"
    },
    {
     "data": {
      "image/png": "[encoded data removed]",
      "text/plain": [
       "<Figure size 432x288 with 1 Axes>"
      ]
     },
     "metadata": {
      "needs_background": "light"
     },
     "output_type": "display_data"
    }
   ],
   "source": [
    "plt.plot(data_date_mean.index,bal_trans,color='green',label='Balance Transaction')\n",
    "plt.plot(data_date_mean.index,np.linspace(bal_trans.mean(),bal_trans.mean(),n_points),color='red',label='Mean Balance Data')\n",
    "plt.title('Balance Transaction')\n",
    "plt.xlabel('Date')\n",
    "plt.ylabel('Balance')"
   ]
  },
  {
   "cell_type": "markdown",
   "id": "satisfied-bosnia",
   "metadata": {},
   "source": [
    "## Features Correlation"
   ]
  },
  {
   "cell_type": "code",
   "execution_count": 44,
   "id": "married-framing",
   "metadata": {},
   "outputs": [
    {
     "data": {
      "text/plain": [
       "<matplotlib.axes._subplots.AxesSubplot at 0xd96430a0>"
      ]
     },
     "execution_count": 44,
     "metadata": {},
     "output_type": "execute_result"
    },
    {
     "data": {
      "image/png": "[encoded data removed]",
      "text/plain": [
       "<Figure size 432x288 with 2 Axes>"
      ]
     },
     "metadata": {
      "needs_background": "light"
     },
     "output_type": "display_data"
    }
   ],
   "source": [
    "sns.heatmap(data.corr(method='spearman'),annot=True)"
   ]
  },
  {
   "cell_type": "code",
   "execution_count": 45,
   "id": "future-profile",
   "metadata": {},
   "outputs": [
    {
     "data": {
      "text/plain": [
       "<matplotlib.axes._subplots.AxesSubplot at 0xd8f2b6d0>"
      ]
     },
     "execution_count": 45,
     "metadata": {},
     "output_type": "execute_result"
    },
    {
     "data": {
      "image/png": "[encoded data removed]",
      "text/plain": [
       "<Figure size 432x288 with 2 Axes>"
      ]
     },
     "metadata": {
      "needs_background": "light"
     },
     "output_type": "display_data"
    }
   ],
   "source": [
    "sns.heatmap(data.corr(method='pearson'),annot=True)"
   ]
  }
 ],
 "metadata": {
  "kernelspec": {
   "display_name": "Python 3",
   "language": "python",
   "name": "python3"
  },
  "language_info": {
   "codemirror_mode": {
    "name": "ipython",
    "version": 3
   },
   "file_extension": ".py",
   "mimetype": "text/x-python",
   "name": "python",
   "nbconvert_exporter": "python",
   "pygments_lexer": "ipython3",
   "version": "3.8.3"
  }
 },
 "nbformat": 4,
 "nbformat_minor": 5
}
